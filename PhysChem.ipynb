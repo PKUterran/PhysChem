{
 "cells": [
  {
   "cell_type": "markdown",
   "source": [
    "<div style=\"color:black; background-color:#FFF3E9; border: 1px solid #FFE0C3; border-radius: 10px; margin-bottom:0rem\">\n",
    "    <p style=\"margin:1rem; padding-left: 1rem; line-height: 2.5;\">\n",
    "        ©️ <b><i>Copyright 2023 @ Authors</i></b><br/>\n",
    "        <i>作者：\n",
    "            <b>\n",
    "            <a href=\"mailto:yangsw@dp.tech\">杨舒文 📨 </a>\n",
    "            </b>\n",
    "        </i>\n",
    "        <br/>\n",
    "        <i>日期：2023-06-29</i><br/>\n",
    "        <i>共享协议：</a>本作品采用<a rel=\"license\" href=\"http://creativecommons.org/licenses/by-nc-sa/4.0/\">知识共享署名-非商业性使用-相同方式共享 4.0 国际许可协议</a>进行许可。</i><br/>\n",
    "        <i>快速开始：点击上方的</i> <span style=\"background-color:rgb(85, 91, 228); color:white; padding: 3px; border-radius: 5px;box-shadow: 2px 2px 3px rgba(0, 0, 0, 0.3); font-size:0.75rem;\">开始连接</span> <i>按钮，选择 <b><u>bohrium-notebook:2023-05-31</u>镜像</b> 和任意配置机型即可开始。\n",
    "    </p>\n",
    "</div>"
   ],
   "metadata": {
    "collapsed": false
   }
  },
  {
   "cell_type": "markdown",
   "source": [
    "运行本notebook前，请确保已安装rdkit：\n",
    "```shell\n",
    "pip install rdkit\n",
    "```"
   ],
   "metadata": {
    "collapsed": false
   }
  },
  {
   "cell_type": "markdown",
   "source": [
    "# PhysChem：融合物理/化学信息的分子性质预测\n",
    "<a href=\"https://bohrium.dp.tech/notebook/879b6a3a9d394448913ca1ce7de257ec\" target=\"_blank\"><img src=\"https://cdn.dp.tech/bohrium/web/static/images/open-in-bohrium.svg\" alt=\"Open In Bohrium\"/></a>"
   ],
   "metadata": {
    "collapsed": false
   }
  },
  {
   "cell_type": "markdown",
   "source": [
    "## 1. 简介\n",
    "\n",
    "近来，深度学习和分子科学领域的研究人员对二者的交叉点（AI4Science）产生了浓厚的兴趣，并在分子性质预测、分子图生成和药物发现的虚拟筛选等应用方面取得了显著进展。**分子表示学习**（molecular representation learning）旨在将分子的输入符号编码为数值向量（fingerprint），后者可作为下游任务的特征。早期的深度分子表示方法通常使用现成的网络架构，包括MPNN、GAT和Transformer。这些方法将分子的**线性符号**（例如SMILES）或**图符号**（即结构式）作为输入，而忽略了分子的**物理**和**化学**性质。\n",
    "\n",
    "为了推动分子表示学习的边界，本工作从**物理**和**化学**两个角度重新审视了分子：\n",
    "- **物理学家**一般将分子视为遵循（量子）力学规律的粒子系统。分子的主导构象反映了这些微观力学系统的平衡状态，因此受到广泛关注。\n",
    "- **化学家**更关注分子的化学键和功能基团，这些键和基团表示电子的相互作用并决定化学/生物性质，如溶解度和毒性等。\n",
    "\n",
    "然而，分子的物理和化学信息并非正交的。例如，键长和角度的扭转会极大影响粒子系统的动力学。因此，理想的分子表示不仅能够捕获物理和化学信息，还能适当地融合这两种信息。基于这种观念，作者提出了PhysChem，一种能够捕获和融合分子的物理和化学信息的新颖神经架构。PhysChem由两个专业网络组成：\n",
    "- **物理学家网络**（PhysNet）通过在广义空间中模拟分子动力学来学习分子的主导构象。在PhysNet中，通过编码输入特征来初始化原子的隐含位置和动量。通过神经网络学习原子对之间的力，根据这些力，系统按照经典力学的规律运动。通过空间不变损失将最终的原子位置进行监督。\n",
    "- **化学家网络**（ChemNet）利用消息传递框架来捕获原子和化学键的化学特征。ChemNet从原子状态和局部几何中生成消息，然后更新原子和化学键的状态。输出分子表示是从原子状态合并并通过标记的化学/生物医学性质进行监督。\n",
    "\n",
    "除了专注于各自的专业领域外，这两个网络还通过共享专业知识来合作：PhysNet向ChemNet咨询化学键的隐藏表示以生成扭转力，而ChemNet利用PhysNet中间构象的局部几何。与现有方法相比，PhysChem具有两个优势：\n",
    "1. _针对分子的物理/化学进行深度理解并融会贯通_，并设计对应的可解释性架构，以实现对分子物理/化学信息的处理。\n",
    "2. _可以从头学习分子构象_，因此不需要给定初始构象，这扩展了PhysChem在无法获得这些标签的情况下的适用性，例如与药物筛选。\n",
    "\n",
    "基于MoleculeNet以及SARS-CoV-2数据集的实验表明，PhysChem在**物理构型生成**和**化学性质预测**任务上均具有很好性能，取得了“1+1>2”的效果。\n",
    "\n",
    "论文链接：[OpenReview-PhysChem](https://openreview.net/forum?id=Uxi7X1EqywV)\n",
    "\n",
    "GitHub链接：[PKUterran/PhysChem](https://github.com/PKUterran/PhysChem)"
   ],
   "metadata": {
    "collapsed": false
   }
  },
  {
   "cell_type": "markdown",
   "source": [
    "## 2. 方法\n",
    "\n",
    "![](image/arch.png)\n",
    "\n",
    "如上图所示，PhysChem的结构分为四个部分：\n",
    "1. **Initializer**将输入的分子图（支持PDB/SMILES格式）编码为初始atom/bond states $v^{(0)},e^{(0)}$（原子和化学键的表示向量，for ChemNet）以及初始的atomic positions/momenta $q^{(0)},p^{(0)}$（原子的三维坐标和动量，for PhysNet）。\n",
    "2. **PhysNet Block**在高维隐空间中模拟分子运动。\n",
    "3. **ChemNet Block**在原子和化学键之间执行几何感知的消息传递（geometry-aware message-passing）。\n",
    "\n",
    "> - PhysNet Block和ChemNet Block会同步执行$L$次\n",
    "> - 为确保物理引擎的功能一致性，每个PhysNet Block之间共享参数（ChemNet Block同理）\n",
    "> - 为强化信息收集和表达能力，ChemNet Block内部不同层之间不共享参数\n",
    "\n",
    "4. **Readout**模块根据下游任务的需求构造模型输出，如：\n",
    "    - 物理构型：从原子隐式坐标$q^{(L)}$中读出三位欧氏空间坐标\n",
    "    - 化学性质：从原子深层表示$v^{(L)}$中读出预测目标（分类/回归）"
   ],
   "metadata": {
    "collapsed": false
   }
  },
  {
   "cell_type": "markdown",
   "source": [
    "## 3. 功能\n",
    "\n",
    "这里，我们提供了一个在QM9数据集上训练了两天的模型。你可以先<font color=red>配置一些参数</font>，然后加载它："
   ],
   "metadata": {
    "collapsed": false
   }
  },
  {
   "cell_type": "code",
   "execution_count": 1,
   "outputs": [
    {
     "name": "stdout",
     "output_type": "stream",
     "text": [
      "##### CONFIG #####\n",
      "\tCLASSIFIER_HIDDENS: []\n",
      "\tINIT_GCN_H_DIMS: [128]\n",
      "\tINIT_GCN_O_DIM: 128\n",
      "\tINIT_LSTM_LAYERS: 2\n",
      "\tINIT_LSTM_O_DIM: 128\n",
      "\tHV_DIM: 128\n",
      "\tHE_DIM: 64\n",
      "\tHM_DIM: 256\n",
      "\tMV_DIM: 128\n",
      "\tME_DIM: 64\n",
      "\tMM_DIM: 256\n",
      "\tPQ_DIM: 3\n",
      "\tN_LAYER: 2\n",
      "\tN_HOP: 1\n",
      "\tN_ITERATION: 4\n",
      "\tN_GLOBAL: 2\n",
      "\tMESSAGE_TYPE: triplet\n",
      "\tUNION_TYPE: gru\n",
      "\tGLOBAL_TYPE: inductive\n",
      "\tDERIVATION_TYPE: newton\n",
      "\tTAU: 0.25\n",
      "\tDISSA: 1.0\n",
      "\tDROPOUT: 0.5\n",
      "\tEPOCH: 300\n",
      "\tBATCH: 20\n",
      "\tPACK: 1\n",
      "\tCONF_LOSS: H_ADJ3\n",
      "\tLAMBDA: 100\n",
      "\tLR: 2e-06\n",
      "\tGAMMA: 0.995\n",
      "\tDECAY: 1e-05\n",
      "\tCONF_TYPE: ConfType.NEWTON\n",
      "##### PARAMETERS #####\n",
      "\tinitializer.v_linear.weight: torch.Size([128, 34])\n",
      "\tinitializer.v_linear.bias: torch.Size([128])\n",
      "\tinitializer.e_linear.weight: torch.Size([64, 10])\n",
      "\tinitializer.e_linear.bias: torch.Size([64])\n",
      "\tinitializer.a_linear.weight: torch.Size([1, 64])\n",
      "\tinitializer.a_linear.bias: torch.Size([1])\n",
      "\tinitializer.gcn.linears.0.weight: torch.Size([128, 128])\n",
      "\tinitializer.gcn.linears.0.bias: torch.Size([128])\n",
      "\tinitializer.gcn.linears.1.weight: torch.Size([128, 128])\n",
      "\tinitializer.gcn.linears.1.bias: torch.Size([128])\n",
      "\tinitializer.lstm_encoder.rnn.weight_ih_l0: torch.Size([512, 384])\n",
      "\tinitializer.lstm_encoder.rnn.weight_hh_l0: torch.Size([512, 128])\n",
      "\tinitializer.lstm_encoder.rnn.bias_ih_l0: torch.Size([512])\n",
      "\tinitializer.lstm_encoder.rnn.bias_hh_l0: torch.Size([512])\n",
      "\tinitializer.lstm_encoder.rnn.weight_ih_l1: torch.Size([512, 128])\n",
      "\tinitializer.lstm_encoder.rnn.weight_hh_l1: torch.Size([512, 128])\n",
      "\tinitializer.lstm_encoder.rnn.bias_ih_l1: torch.Size([512])\n",
      "\tinitializer.lstm_encoder.rnn.bias_hh_l1: torch.Size([512])\n",
      "\tinitializer.lstm_remap.weight: torch.Size([6, 128])\n",
      "\tinitializer.lstm_remap.bias: torch.Size([6])\n",
      "\tmp_kernel.messages.0.dis_encode.weight: torch.Size([8, 1])\n",
      "\tmp_kernel.messages.0.dis_encode.bias: torch.Size([8])\n",
      "\tmp_kernel.messages.0.angle_encode.weight: torch.Size([16, 1])\n",
      "\tmp_kernel.messages.0.angle_encode.bias: torch.Size([16])\n",
      "\tmp_kernel.messages.0.attend.weight: torch.Size([128, 416])\n",
      "\tmp_kernel.messages.0.align.weight: torch.Size([1, 64])\n",
      "\tmp_kernel.messages.0.align.bias: torch.Size([1])\n",
      "\tmp_kernel.messages.0.link.weight: torch.Size([64, 264])\n",
      "\tmp_kernel.messages.0.link.bias: torch.Size([64])\n",
      "\tmp_kernel.unions_v.0.gru_cell.weight_ih: torch.Size([384, 128])\n",
      "\tmp_kernel.unions_v.0.gru_cell.weight_hh: torch.Size([384, 128])\n",
      "\tmp_kernel.unions_v.0.gru_cell.bias_ih: torch.Size([384])\n",
      "\tmp_kernel.unions_v.0.gru_cell.bias_hh: torch.Size([384])\n",
      "\tmp_kernel.unions_e.0.gru_cell.weight_ih: torch.Size([192, 64])\n",
      "\tmp_kernel.unions_e.0.gru_cell.weight_hh: torch.Size([192, 64])\n",
      "\tmp_kernel.unions_e.0.gru_cell.bias_ih: torch.Size([192])\n",
      "\tmp_kernel.unions_e.0.gru_cell.bias_hh: torch.Size([192])\n",
      "\tdrv_kernel.derivation.force.fb_linear1.weight: torch.Size([32, 192])\n",
      "\tdrv_kernel.derivation.force.fb_linear2.weight: torch.Size([1, 32])\n",
      "\tdrv_kernel.derivation.force.fb_linear2.bias: torch.Size([1])\n",
      "\tdrv_kernel.derivation.force.fr_linear.weight: torch.Size([32, 3])\n",
      "\tdrv_kernel.derivation.force.fr_linear.bias: torch.Size([32])\n",
      "\tfingerprint_gen.vertex2mol.weight: torch.Size([256, 128])\n",
      "\tfingerprint_gen.vertex2mol.bias: torch.Size([256])\n",
      "\tfingerprint_gen.readouts.0.attend.weight: torch.Size([256, 128])\n",
      "\tfingerprint_gen.readouts.0.attend.bias: torch.Size([256])\n",
      "\tfingerprint_gen.readouts.0.align.weight: torch.Size([1, 384])\n",
      "\tfingerprint_gen.readouts.0.align.bias: torch.Size([1])\n",
      "\tfingerprint_gen.readouts.1.attend.weight: torch.Size([256, 128])\n",
      "\tfingerprint_gen.readouts.1.attend.bias: torch.Size([256])\n",
      "\tfingerprint_gen.readouts.1.align.weight: torch.Size([1, 384])\n",
      "\tfingerprint_gen.readouts.1.align.bias: torch.Size([1])\n",
      "\tfingerprint_gen.unions.0.gru_cell.weight_ih: torch.Size([768, 256])\n",
      "\tfingerprint_gen.unions.0.gru_cell.weight_hh: torch.Size([768, 256])\n",
      "\tfingerprint_gen.unions.0.gru_cell.bias_ih: torch.Size([768])\n",
      "\tfingerprint_gen.unions.0.gru_cell.bias_hh: torch.Size([768])\n",
      "\tfingerprint_gen.unions.1.gru_cell.weight_ih: torch.Size([768, 256])\n",
      "\tfingerprint_gen.unions.1.gru_cell.weight_hh: torch.Size([768, 256])\n",
      "\tfingerprint_gen.unions.1.gru_cell.bias_ih: torch.Size([768])\n",
      "\tfingerprint_gen.unions.1.gru_cell.bias_hh: torch.Size([768])\n",
      "Number of parameters: 1524315\n"
     ]
    }
   ],
   "source": [
    "## 可以配置的参数有这些：\n",
    "seed = 0\n",
    "use_cuda = False\n",
    "\n",
    "\n",
    "import torch\n",
    "from functools import reduce\n",
    "from data.encode import num_atom_features, num_bond_features\n",
    "from train.config import QM9_CONFIG\n",
    "from net.models import GeomNN as PhysChem\n",
    "from rdkit import RDLogger\n",
    "\n",
    "RDLogger.DisableLog('rdApp.*')\n",
    "\n",
    "tag = \"QM9\"\n",
    "config = QM9_CONFIG.copy()\n",
    "print('##### CONFIG #####')\n",
    "for k, v in config.items():\n",
    "    print(f'\\t{k}: {v}')\n",
    "\n",
    "model = PhysChem(\n",
    "    atom_dim=num_atom_features(),\n",
    "    bond_dim=num_bond_features(),\n",
    "    config=config,\n",
    "    use_cuda=use_cuda\n",
    ")\n",
    "model_dicts = torch.load(f'train/models/{tag}-model.pkl', map_location=torch.device('cpu'))\n",
    "model.load_state_dict(model_dicts)\n",
    "model.eval()\n",
    "\n",
    "print('##### PARAMETERS #####')\n",
    "param_size = 0\n",
    "for name, param in model.named_parameters():\n",
    "    print(f'\\t{name}: {param.shape}')\n",
    "    param_size += reduce(lambda x, y: x * y, param.shape)\n",
    "print(f'Number of parameters: {param_size}')"
   ],
   "metadata": {
    "collapsed": false,
    "ExecuteTime": {
     "end_time": "2023-06-30T01:38:32.620259500Z",
     "start_time": "2023-06-30T01:38:30.354362600Z"
    }
   }
  },
  {
   "cell_type": "markdown",
   "source": [
    "如果顺利的话，你已经成功加载一个PhysChem模型了，现在我们来看看它的输入和输出吧："
   ],
   "metadata": {
    "collapsed": false
   }
  },
  {
   "cell_type": "code",
   "execution_count": 2,
   "outputs": [
    {
     "name": "stdout",
     "output_type": "stream",
     "text": [
      "\tStart encoding...\n",
      "\tEncoded: 1\n"
     ]
    }
   ],
   "source": [
    "import rdkit.Chem as Chem\n",
    "from train.utils.cache_batch import produce_batches_from_mols\n",
    "\n",
    "mol = Chem.MolFromSmiles(\"CC\")\n",
    "batches = produce_batches_from_mols([mol])\n",
    "batch = batches[0]\n",
    "\n",
    "fingerprint, conformations, *_ = model.forward(\n",
    "    atom_ftr=batch.atom_ftr,\n",
    "    bond_ftr=batch.bond_ftr,\n",
    "    massive=batch.massive,\n",
    "    mask_matrices=batch.mask_matrices,\n",
    "    return_derive=True,\n",
    ")"
   ],
   "metadata": {
    "collapsed": false,
    "ExecuteTime": {
     "end_time": "2023-06-29T08:55:10.006222Z",
     "start_time": "2023-06-29T08:55:09.930927600Z"
    }
   }
  },
  {
   "cell_type": "markdown",
   "source": [
    "这个是分子指纹（molecular fingerprint），也就是表示一个分子的特征向量："
   ],
   "metadata": {
    "collapsed": false
   }
  },
  {
   "cell_type": "code",
   "execution_count": 3,
   "outputs": [
    {
     "name": "stdout",
     "output_type": "stream",
     "text": [
      "torch.Size([1, 256])\n"
     ]
    }
   ],
   "source": [
    "print(fingerprint.shape)"
   ],
   "metadata": {
    "collapsed": false,
    "ExecuteTime": {
     "end_time": "2023-06-29T08:55:12.275680300Z",
     "start_time": "2023-06-29T08:55:12.246575600Z"
    }
   }
  },
  {
   "cell_type": "markdown",
   "source": [
    "这个是分子在构型演化过程中，每个时间步的原子三维坐标："
   ],
   "metadata": {
    "collapsed": false
   }
  },
  {
   "cell_type": "code",
   "execution_count": 4,
   "outputs": [
    {
     "name": "stdout",
     "output_type": "stream",
     "text": [
      "10\n",
      "[[-1.2077603 -1.8745091  1.7269976]\n",
      " [-0.6036631 -2.7950263  2.8480675]]\n"
     ]
    }
   ],
   "source": [
    "print(len(conformations))\n",
    "print(conformations[-1].detach().numpy())"
   ],
   "metadata": {
    "collapsed": false,
    "ExecuteTime": {
     "end_time": "2023-06-29T08:55:13.433543200Z",
     "start_time": "2023-06-29T08:55:13.403958300Z"
    }
   }
  },
  {
   "cell_type": "markdown",
   "source": [
    "### 3.1. 物理构型生成\n",
    "\n",
    "在这部分中，我们将展示如何使用PhysChem为分子生成物理构型："
   ],
   "metadata": {
    "collapsed": false
   }
  },
  {
   "cell_type": "code",
   "execution_count": 14,
   "outputs": [
    {
     "name": "stdout",
     "output_type": "stream",
     "text": [
      "\tStart encoding...\n",
      "\tEncoded: 3\n"
     ]
    }
   ],
   "source": [
    "list_smiles = [\n",
    "    'O=Cc1cc(C#N)ccc1',\n",
    "    'C(C(C(=O)O)N)C(=O)O',\n",
    "    'CC(=O)OC1=CC=CC=C1C(=O)O',\n",
    "]\n",
    "\n",
    "mols = [Chem.MolFromSmiles(list_smiles[i]) for i in range(len(list_smiles))]\n",
    "batches = produce_batches_from_mols(mols)\n",
    "list_physchem_conformations = []\n",
    "for batch in batches:\n",
    "    _, conformations, *_ = model.forward(\n",
    "        atom_ftr=batch.atom_ftr,\n",
    "        bond_ftr=batch.bond_ftr,\n",
    "        massive=batch.massive,\n",
    "        mask_matrices=batch.mask_matrices,\n",
    "        return_derive=True,\n",
    "    )\n",
    "    list_physchem_conformations.append([conf.detach().numpy() for conf in conformations])"
   ],
   "metadata": {
    "collapsed": false,
    "ExecuteTime": {
     "end_time": "2023-06-29T09:00:04.485279200Z",
     "start_time": "2023-06-29T09:00:04.412034400Z"
    }
   }
  },
  {
   "cell_type": "markdown",
   "source": [
    "顺便用RDKit和[HamEng](https://openreview.net/forum?id=q-cnWaaoUTH)生成构型："
   ],
   "metadata": {
    "collapsed": false
   }
  },
  {
   "cell_type": "code",
   "execution_count": 15,
   "outputs": [],
   "source": [
    "from train.utils.rdkit import rdkit_mol_positions\n",
    "\n",
    "list_rdkit_conformation = [rdkit_mol_positions(mol) for mol in mols]"
   ],
   "metadata": {
    "collapsed": false,
    "ExecuteTime": {
     "end_time": "2023-06-29T09:00:05.693657Z",
     "start_time": "2023-06-29T09:00:05.659661300Z"
    }
   }
  },
  {
   "cell_type": "code",
   "execution_count": 16,
   "outputs": [],
   "source": [
    "from net.models import MLP\n",
    "from net.baseline.HamEng.models import HamiltonianPositionProducer\n",
    "from train.HamEng.config import FITTER_CONFIG_QM9 as HAMENG_CONFIG\n",
    "from visualize.vis_derive import generate_derive\n",
    "\n",
    "config = HAMENG_CONFIG.copy()\n",
    "hameng_model = HamiltonianPositionProducer(\n",
    "    n_dim=num_atom_features(),\n",
    "    e_dim=num_bond_features(),\n",
    "    config=config,\n",
    "    use_cuda=use_cuda\n",
    ")\n",
    "conf_gen = MLP(\n",
    "    in_dim=config['PQ_DIM'],\n",
    "    out_dim=3,\n",
    "    use_cuda=use_cuda,\n",
    "    bias=False\n",
    ")\n",
    "\n",
    "model_dicts = torch.load(f'train/models/HamNet/HamEng@16880611-model.pkl', map_location=torch.device('cpu'))\n",
    "conf_dicts = torch.load(f'train/models/HamNet/HamEng@16880611-conf_gen.pkl', map_location=torch.device('cpu'))\n",
    "hameng_model.load_state_dict(model_dicts)\n",
    "conf_gen.load_state_dict(conf_dicts)\n",
    "model.eval()\n",
    "conf_gen.eval()\n",
    "\n",
    "list_hameng_conformations = []\n",
    "for batch in batches:\n",
    "    _, list_q_ftr, *_ = hameng_model.forward(\n",
    "        v_features=batch.atom_ftr,\n",
    "        e_features=batch.bond_ftr,\n",
    "        massive=batch.massive,\n",
    "        mask_matrices=batch.mask_matrices,\n",
    "        return_multi=True\n",
    "    )\n",
    "    list_hameng_conformations.append([conf_gen.forward(q).detach().numpy() for q in list_q_ftr])"
   ],
   "metadata": {
    "collapsed": false,
    "ExecuteTime": {
     "end_time": "2023-06-29T09:00:06.473599200Z",
     "start_time": "2023-06-29T09:00:06.375868300Z"
    }
   }
  },
  {
   "cell_type": "markdown",
   "source": [
    "然后对比这些模型生成的物理构型："
   ],
   "metadata": {
    "collapsed": false
   }
  },
  {
   "cell_type": "code",
   "execution_count": null,
   "outputs": [],
   "source": [
    "import numpy as np\n",
    "import py3Dmol\n",
    "import rdkit.Chem as Chem\n",
    "from rdkit.Chem.rdchem import Mol as Molecule\n",
    "from rdkit.Chem.AllChem import EmbedMolecule\n",
    "from train.utils.kabsch import kabsch_np\n",
    "\n",
    "def show_pdb(pdb: str):\n",
    "    view = py3Dmol.view(width=800, height=600)\n",
    "    view.addModel(pdb)\n",
    "    view.setStyle({'stick': {}})\n",
    "    view.setStyle({'model': 0}, {'stick': {'colorscheme': 'cyanCarbon'}})\n",
    "    view.zoomTo()\n",
    "    view.show()\n",
    "\n",
    "def show_mol_with_pos(mol: Molecule, pos: np.ndarray):\n",
    "    EmbedMolecule(mol)\n",
    "    for i in range(len(mol.GetAtoms())):\n",
    "        mol.GetConformer().SetAtomPosition(i, [float(p) for p in pos[i]])\n",
    "    # mol = AddHs(mol)\n",
    "    Chem.MolToPDBFile(mol, filename=f'visualize/temp.pdb')\n",
    "    with open(f'visualize/temp.pdb') as fp:\n",
    "        pdb = fp.read()\n",
    "    show_pdb(pdb)\n",
    "\n",
    "for i, smiles in enumerate(list_smiles):\n",
    "    # alignment\n",
    "    rdkit_conf = list_rdkit_conformation[i]\n",
    "    hameng_confs = list_hameng_conformations[i]\n",
    "    physchem_confs = list_physchem_conformations[i]\n",
    "    hameng_confs = [kabsch_np(conf, rdkit_conf)[0] for conf in hameng_confs]\n",
    "    physchem_confs = [kabsch_np(conf, rdkit_conf)[0] for conf in physchem_confs]\n",
    "\n",
    "    print(f'##### Generating SMILES {smiles} #####')\n",
    "    print(f\"\\tRDKit:\")\n",
    "    show_mol_with_pos(mols[i], rdkit_conf)\n",
    "    print(f\"\\tHamEng:\")\n",
    "    show_mol_with_pos(mols[i], hameng_confs[-1])\n",
    "    print(f\"\\tPhysChem:\")\n",
    "    show_mol_with_pos(mols[i], physchem_confs[-1])"
   ],
   "metadata": {
    "collapsed": false
   }
  },
  {
   "cell_type": "markdown",
   "source": [
    "### 3.2 化学性质预测\n",
    "\n",
    "在这部分中，我们将展示如何使用PhysChem为分子生成fingerprint，并预测化学性质：（以`FreeSolv`为例）"
   ],
   "metadata": {
    "collapsed": false
   }
  },
  {
   "cell_type": "code",
   "execution_count": 38,
   "outputs": [
    {
     "name": "stdout",
     "output_type": "stream",
     "text": [
      "\tUse Cached Mols\n",
      "\tmean: -3.803006172180176\n",
      "\tstd: 3.8478201122287583\n",
      "Caching Batches...\n",
      "\tUse Cached Batches\n"
     ]
    },
    {
     "name": "stderr",
     "output_type": "stream",
     "text": [
      "100%|██████████| 26/26 [00:09<00:00,  2.78it/s]\n",
      "100%|██████████| 4/4 [00:00<00:00,  4.44it/s]\n",
      "100%|██████████| 4/4 [00:00<00:00,  4.81it/s]\n"
     ]
    }
   ],
   "source": [
    "import numpy as np\n",
    "from typing import List, Tuple\n",
    "from tqdm import tqdm\n",
    "from data.FreeSolv.load_freesolv import load_freesolv\n",
    "from train.utils.cache_batch import Batch\n",
    "from train.utils.cache_batch import load_encode_mols, load_batch_cache, batch_cuda_copy\n",
    "\n",
    "data_name = \"FreeSolv\"\n",
    "mols, mol_properties = load_freesolv()\n",
    "mols_info = load_encode_mols(mols, name=data_name)\n",
    "mean_p = np.mean(mol_properties, axis=0)\n",
    "stddev_p = np.std((mol_properties - mean_p).tolist(), axis=0, ddof=1)\n",
    "print(f'\\tmean: {mean_p[0]}')\n",
    "print(f'\\tstd: {stddev_p[0]}')\n",
    "norm_p = (mol_properties - mean_p) / stddev_p\n",
    "print('Caching Batches...')\n",
    "batch_cache = load_batch_cache(\n",
    "    data_name, mols, mols_info, norm_p, batch_size=config['BATCH'],\n",
    "    contains_ground_truth_conf=False, use_cuda=use_cuda, use_tqdm=True\n",
    ")\n",
    "\n",
    "def proc_batch(batches: List[Batch]) -> Tuple[np.ndarray, np.ndarray]:\n",
    "    list_fp = []\n",
    "    list_prop = []\n",
    "    batches = tqdm(batches, total=len(batches))\n",
    "    for batch in batches:\n",
    "        if use_cuda:\n",
    "            batch = batch_cuda_copy(batch)\n",
    "        fp, *_ = model.forward(batch.atom_ftr, batch.bond_ftr, batch.massive, batch.mask_matrices)\n",
    "        list_fp.append(fp.cpu().detach().numpy())\n",
    "        list_prop.append(batch.properties.cpu().detach().numpy())\n",
    "    return np.vstack(list_fp), np.vstack(list_prop)\n",
    "\n",
    "train_fp, train_prop = proc_batch(batch_cache.train_batches)\n",
    "valid_fp, valid_prop = proc_batch(batch_cache.validate_batches)\n",
    "test_fp, test_prop = proc_batch(batch_cache.test_batches)"
   ],
   "metadata": {
    "collapsed": false,
    "ExecuteTime": {
     "end_time": "2023-06-30T02:42:33.495368500Z",
     "start_time": "2023-06-30T02:42:21.341073600Z"
    }
   }
  },
  {
   "cell_type": "code",
   "execution_count": 43,
   "outputs": [
    {
     "name": "stdout",
     "output_type": "stream",
     "text": [
      "TRAIN RMSE: 2.0468615127731553\n",
      "VALIDATE RMSE: 2.763132534140123\n",
      "TEST RMSE: 1.794972227138338\n"
     ]
    }
   ],
   "source": [
    "from sklearn.linear_model import SGDRegressor\n",
    "from sklearn.metrics import mean_squared_error\n",
    "\n",
    "reg = SGDRegressor()\n",
    "reg.fit(train_fp, train_prop[:, 0])\n",
    "train_pred = reg.predict(train_fp)\n",
    "valid_pred = reg.predict(valid_fp)\n",
    "test_pred = reg.predict(test_fp)\n",
    "print(f\"TRAIN RMSE: {mean_squared_error(train_prop, train_pred) ** 0.5 * stddev_p[0]}\")\n",
    "print(f\"VALIDATE RMSE: {mean_squared_error(valid_prop, valid_pred) ** 0.5 * stddev_p[0]}\")\n",
    "print(f\"TEST RMSE: {mean_squared_error(test_prop, test_pred) ** 0.5 * stddev_p[0]}\")"
   ],
   "metadata": {
    "collapsed": false,
    "ExecuteTime": {
     "end_time": "2023-06-30T02:44:12.467411800Z",
     "start_time": "2023-06-30T02:44:12.440153500Z"
    }
   }
  },
  {
   "cell_type": "markdown",
   "source": [],
   "metadata": {
    "collapsed": false
   }
  },
  {
   "cell_type": "markdown",
   "source": [
    "## 4. 训练自己的模型\n",
    "\n",
    "我们提供了针对多种输出类型的训练函数：\n",
    "- `train/single_regression.py`：单回归问题，如Lipop，ESOL，FreeSolv\n",
    "- `train/train_multi_classification.py`：多分类问题，如Sars-Cov-2\n",
    "- `train/train_qm9.py`：多回归+构型预测问题，如QM7/8/9\n",
    "\n",
    "例如，在QM7上训练模型的方法如下："
   ],
   "metadata": {
    "collapsed": false
   }
  },
  {
   "cell_type": "code",
   "execution_count": null,
   "outputs": [],
   "source": [
    "from net.config import ConfType\n",
    "from train.train_qm9 import train_qm9, QMDataset\n",
    "\n",
    "conf_type = ConfType.NEWTON\n",
    "name = 'QM7'\n",
    "seed = 16880611\n",
    "\n",
    "train_qm9(\n",
    "    special_config={\n",
    "        'CLASSIFIER_HIDDENS': [],\n",
    "\n",
    "        'INIT_GCN_H_DIMS': [128],\n",
    "        'INIT_GCN_O_DIM': 128,\n",
    "        'INIT_LSTM_LAYERS': 2,\n",
    "        'INIT_LSTM_O_DIM': 128,\n",
    "\n",
    "        'HV_DIM': 200,\n",
    "        'HE_DIM': 100,\n",
    "        'HM_DIM': 300,\n",
    "        'MV_DIM': 200,\n",
    "        'ME_DIM': 100,\n",
    "        'MM_DIM': 300,\n",
    "        'PQ_DIM': 3,\n",
    "        'N_LAYER': 2,\n",
    "        'N_HOP': 1,\n",
    "        'N_ITERATION': 4,\n",
    "        'N_GLOBAL': 2,\n",
    "        'MESSAGE_TYPE': 'triplet',\n",
    "        'UNION_TYPE': 'gru',\n",
    "        'GLOBAL_TYPE': 'inductive',\n",
    "        'DERIVATION_TYPE': 'newton',\n",
    "        'TAU': 0.25,\n",
    "        'DISSA': 1.0,\n",
    "        'DROPOUT': 0.5,\n",
    "\n",
    "        'EPOCH': 100,\n",
    "        'BATCH': 10,\n",
    "        'PACK': 10,\n",
    "        'CONF_LOSS': 'H_ADJ3',\n",
    "        'LAMBDA': 0.1,\n",
    "        'LR': 1e-4,\n",
    "        'GAMMA': 0.95,\n",
    "        'DECAY': 1e-3,\n",
    "\n",
    "        'CONF_TYPE': conf_type,\n",
    "    },\n",
    "    dataset=QMDataset.QM7,\n",
    "    use_cuda=True,\n",
    "    max_num=-1,\n",
    "    data_name=f'{name}@{seed}',\n",
    "    seed=seed,\n",
    "    force_save=True,\n",
    "    tag=f'{name}@{seed}',\n",
    "    use_tqdm=False,\n",
    ")"
   ],
   "metadata": {
    "collapsed": false
   }
  }
 ],
 "metadata": {
  "kernelspec": {
   "display_name": "Python 3 (ipykernel)",
   "language": "python",
   "name": "python3"
  },
  "language_info": {
   "codemirror_mode": {
    "name": "ipython",
    "version": 3
   },
   "file_extension": ".py",
   "mimetype": "text/x-python",
   "name": "python",
   "nbconvert_exporter": "python",
   "pygments_lexer": "ipython3",
   "version": "3.10.11"
  }
 },
 "nbformat": 4,
 "nbformat_minor": 1
}
