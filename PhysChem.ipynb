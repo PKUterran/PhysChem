{
 "cells": [
  {
   "cell_type": "markdown",
   "source": [
    "<div style=\"color:black; background-color:#FFF3E9; border: 1px solid #FFE0C3; border-radius: 10px; margin-bottom:0rem\">\n",
    "    <p style=\"margin:1rem; padding-left: 1rem; line-height: 2.5;\">\n",
    "        ©️ <b><i>Copyright 2023 @ Authors</i></b><br/>\n",
    "        <i>作者：\n",
    "            <b>\n",
    "            <a href=\"mailto:yangsw@dp.tech\">杨舒文 📨 </a>\n",
    "            </b>\n",
    "        </i>\n",
    "        <br/>\n",
    "        <i>日期：2023-06-29</i><br/>\n",
    "        <i>共享协议：</a>本作品采用<a rel=\"license\" href=\"http://creativecommons.org/licenses/by-nc-sa/4.0/\">知识共享署名-非商业性使用-相同方式共享 4.0 国际许可协议</a>进行许可。</i><br/>\n",
    "        <i>快速开始：点击上方的</i> <span style=\"background-color:rgb(85, 91, 228); color:white; padding: 3px; border-radius: 5px;box-shadow: 2px 2px 3px rgba(0, 0, 0, 0.3); font-size:0.75rem;\">开始连接</span> <i>按钮，选择 <b><u>bohrium-notebook:2023-05-31</u>镜像</b> 和任意配置机型即可开始。\n",
    "    </p>\n",
    "</div>"
   ],
   "metadata": {
    "collapsed": false
   }
  },
  {
   "cell_type": "markdown",
   "source": [
    "运行本notebook前，请确保已安装RDKit和py3Dmol：\n",
    "```shell\n",
    "pip install rdkit\n",
    "pip install py3Dmol\n",
    "```"
   ],
   "metadata": {
    "collapsed": false
   }
  },
  {
   "cell_type": "markdown",
   "source": [
    "# PhysChem：融合物理/化学信息的分子性质预测"
   ],
   "metadata": {
    "collapsed": false
   }
  },
  {
   "cell_type": "markdown",
   "source": [
    "## 1. 简介\n",
    "\n",
    "近来，深度学习和分子科学领域的研究人员对二者的交叉点（AI4Science）产生了浓厚的兴趣，并在分子性质预测、分子图生成和药物发现的虚拟筛选等应用方面取得了显著进展。**分子表示学习**（molecular representation learning）旨在将分子的输入符号编码为数值向量（fingerprint），后者可作为下游任务的特征。早期的深度分子表示方法通常使用现成的网络架构，包括MPNN、GAT和Transformer。这些方法将分子的**线性符号**（例如SMILES）或**图符号**（即结构式）作为输入，而忽略了分子的**物理**和**化学**性质。\n",
    "\n",
    "为了推动分子表示学习的边界，本工作从**物理**和**化学**两个角度重新审视了分子：\n",
    "- **物理学家**一般将分子视为遵循（量子）力学规律的粒子系统。分子的主导构象反映了这些微观力学系统的平衡状态，因此受到广泛关注。\n",
    "- **化学家**更关注分子的化学键和功能基团，这些键和基团表示电子的相互作用并决定化学/生物性质，如溶解度和毒性等。\n",
    "\n",
    "然而，分子的物理和化学信息并非正交的。例如，键长和角度的扭转会极大影响粒子系统的动力学。因此，理想的分子表示不仅能够捕获物理和化学信息，还能适当地融合这两种信息。基于这种观念，作者提出了PhysChem，一种能够捕获和融合分子的物理和化学信息的新颖神经架构。PhysChem由两个专业网络组成：\n",
    "- **物理学家网络**（PhysNet）通过在广义空间中模拟分子动力学来学习分子的主导构象。在PhysNet中，通过编码输入特征来初始化原子的隐含位置和动量。通过神经网络学习原子对之间的力，根据这些力，系统按照经典力学的规律运动。通过空间不变损失将最终的原子位置进行监督。\n",
    "- **化学家网络**（ChemNet）利用消息传递框架来捕获原子和化学键的化学特征。ChemNet从原子状态和局部几何中生成消息，然后更新原子和化学键的状态。输出分子表示是从原子状态合并并通过标记的化学/生物医学性质进行监督。\n",
    "\n",
    "除了专注于各自的专业领域外，这两个网络还通过共享专业知识来合作：PhysNet向ChemNet咨询化学键的隐藏表示以生成扭转力，而ChemNet利用PhysNet中间构象的局部几何。与现有方法相比，PhysChem具有两个优势：\n",
    "1. _针对分子的物理/化学进行深度理解并融会贯通_，并设计对应的可解释性架构，以实现对分子物理/化学信息的处理。\n",
    "2. _可以从头学习分子构象_，因此不需要给定初始构象，这扩展了PhysChem在无法获得这些标签的情况下的适用性，例如与药物筛选。\n",
    "\n",
    "基于MoleculeNet以及SARS-CoV-2数据集的实验表明，PhysChem在**物理构型生成**和**化学性质预测**任务上均具有很好性能，取得了“1+1>2”的效果。\n",
    "\n",
    "论文链接：[OpenReview-PhysChem](https://openreview.net/forum?id=Uxi7X1EqywV)\n",
    "\n",
    "GitHub链接：[PKUterran/PhysChem](https://github.com/PKUterran/PhysChem)"
   ],
   "metadata": {
    "collapsed": false
   }
  },
  {
   "cell_type": "markdown",
   "source": [
    "## 2. 方法\n",
    "\n",
    "![](image/arch.png)\n",
    "\n",
    "如上图所示，PhysChem的结构分为四个部分：\n",
    "1. **Initializer**将输入的分子图（支持PDB/SMILES格式）编码为初始atom/bond states $v^{(0)},e^{(0)}$（原子和化学键的表示向量，for ChemNet）以及初始的atomic positions/momenta $q^{(0)},p^{(0)}$（原子的三维坐标和动量，for PhysNet）。\n",
    "2. **PhysNet Block**在高维隐空间中模拟分子运动。\n",
    "3. **ChemNet Block**在原子和化学键之间执行几何感知的消息传递（geometry-aware message-passing）。\n",
    "\n",
    "> - PhysNet Block和ChemNet Block会同步执行$L$次\n",
    "> - 为确保物理引擎的功能一致性，每个PhysNet Block之间共享参数（ChemNet Block同理）\n",
    "> - 为强化信息收集和表达能力，ChemNet Block内部不同层之间不共享参数\n",
    "\n",
    "4. **Readout**模块根据下游任务的需求构造模型输出，如：\n",
    "    - 物理构型：从原子隐式坐标$q^{(L)}$中读出三位欧氏空间坐标\n",
    "    - 化学性质：从原子深层表示$v^{(L)}$中读出预测目标（分类/回归）"
   ],
   "metadata": {
    "collapsed": false
   }
  },
  {
   "cell_type": "markdown",
   "source": [
    "## 3. 功能\n",
    "\n",
    "这里，我们提供了一个在QM9数据集上训练了两天的模型。你可以先<font color=red>配置一些参数</font>，然后加载它："
   ],
   "metadata": {
    "collapsed": false
   }
  },
  {
   "cell_type": "code",
   "execution_count": 1,
   "outputs": [
    {
     "name": "stdout",
     "output_type": "stream",
     "text": [
      "##### CONFIG #####\n",
      "\tCLASSIFIER_HIDDENS: []\n",
      "\tINIT_GCN_H_DIMS: [128]\n",
      "\tINIT_GCN_O_DIM: 128\n",
      "\tINIT_LSTM_LAYERS: 2\n",
      "\tINIT_LSTM_O_DIM: 128\n",
      "\tHV_DIM: 128\n",
      "\tHE_DIM: 64\n",
      "\tHM_DIM: 256\n",
      "\tMV_DIM: 128\n",
      "\tME_DIM: 64\n",
      "\tMM_DIM: 256\n",
      "\tPQ_DIM: 3\n",
      "\tN_LAYER: 2\n",
      "\tN_HOP: 1\n",
      "\tN_ITERATION: 4\n",
      "\tN_GLOBAL: 2\n",
      "\tMESSAGE_TYPE: triplet\n",
      "\tUNION_TYPE: gru\n",
      "\tGLOBAL_TYPE: inductive\n",
      "\tDERIVATION_TYPE: newton\n",
      "\tTAU: 0.25\n",
      "\tDISSA: 1.0\n",
      "\tDROPOUT: 0.5\n",
      "\tEPOCH: 300\n",
      "\tBATCH: 20\n",
      "\tPACK: 1\n",
      "\tCONF_LOSS: H_ADJ3\n",
      "\tLAMBDA: 100\n",
      "\tLR: 2e-06\n",
      "\tGAMMA: 0.995\n",
      "\tDECAY: 1e-05\n",
      "\tCONF_TYPE: ConfType.NEWTON\n",
      "##### PARAMETERS #####\n",
      "\tinitializer.v_linear.weight: torch.Size([128, 34])\n",
      "\tinitializer.v_linear.bias: torch.Size([128])\n",
      "\tinitializer.e_linear.weight: torch.Size([64, 10])\n",
      "\tinitializer.e_linear.bias: torch.Size([64])\n",
      "\tinitializer.a_linear.weight: torch.Size([1, 64])\n",
      "\tinitializer.a_linear.bias: torch.Size([1])\n",
      "\tinitializer.gcn.linears.0.weight: torch.Size([128, 128])\n",
      "\tinitializer.gcn.linears.0.bias: torch.Size([128])\n",
      "\tinitializer.gcn.linears.1.weight: torch.Size([128, 128])\n",
      "\tinitializer.gcn.linears.1.bias: torch.Size([128])\n",
      "\tinitializer.lstm_encoder.rnn.weight_ih_l0: torch.Size([512, 384])\n",
      "\tinitializer.lstm_encoder.rnn.weight_hh_l0: torch.Size([512, 128])\n",
      "\tinitializer.lstm_encoder.rnn.bias_ih_l0: torch.Size([512])\n",
      "\tinitializer.lstm_encoder.rnn.bias_hh_l0: torch.Size([512])\n",
      "\tinitializer.lstm_encoder.rnn.weight_ih_l1: torch.Size([512, 128])\n",
      "\tinitializer.lstm_encoder.rnn.weight_hh_l1: torch.Size([512, 128])\n",
      "\tinitializer.lstm_encoder.rnn.bias_ih_l1: torch.Size([512])\n",
      "\tinitializer.lstm_encoder.rnn.bias_hh_l1: torch.Size([512])\n",
      "\tinitializer.lstm_remap.weight: torch.Size([6, 128])\n",
      "\tinitializer.lstm_remap.bias: torch.Size([6])\n",
      "\tmp_kernel.messages.0.dis_encode.weight: torch.Size([8, 1])\n",
      "\tmp_kernel.messages.0.dis_encode.bias: torch.Size([8])\n",
      "\tmp_kernel.messages.0.angle_encode.weight: torch.Size([16, 1])\n",
      "\tmp_kernel.messages.0.angle_encode.bias: torch.Size([16])\n",
      "\tmp_kernel.messages.0.attend.weight: torch.Size([128, 416])\n",
      "\tmp_kernel.messages.0.align.weight: torch.Size([1, 64])\n",
      "\tmp_kernel.messages.0.align.bias: torch.Size([1])\n",
      "\tmp_kernel.messages.0.link.weight: torch.Size([64, 264])\n",
      "\tmp_kernel.messages.0.link.bias: torch.Size([64])\n",
      "\tmp_kernel.unions_v.0.gru_cell.weight_ih: torch.Size([384, 128])\n",
      "\tmp_kernel.unions_v.0.gru_cell.weight_hh: torch.Size([384, 128])\n",
      "\tmp_kernel.unions_v.0.gru_cell.bias_ih: torch.Size([384])\n",
      "\tmp_kernel.unions_v.0.gru_cell.bias_hh: torch.Size([384])\n",
      "\tmp_kernel.unions_e.0.gru_cell.weight_ih: torch.Size([192, 64])\n",
      "\tmp_kernel.unions_e.0.gru_cell.weight_hh: torch.Size([192, 64])\n",
      "\tmp_kernel.unions_e.0.gru_cell.bias_ih: torch.Size([192])\n",
      "\tmp_kernel.unions_e.0.gru_cell.bias_hh: torch.Size([192])\n",
      "\tdrv_kernel.derivation.force.fb_linear1.weight: torch.Size([32, 192])\n",
      "\tdrv_kernel.derivation.force.fb_linear2.weight: torch.Size([1, 32])\n",
      "\tdrv_kernel.derivation.force.fb_linear2.bias: torch.Size([1])\n",
      "\tdrv_kernel.derivation.force.fr_linear.weight: torch.Size([32, 3])\n",
      "\tdrv_kernel.derivation.force.fr_linear.bias: torch.Size([32])\n",
      "\tfingerprint_gen.vertex2mol.weight: torch.Size([256, 128])\n",
      "\tfingerprint_gen.vertex2mol.bias: torch.Size([256])\n",
      "\tfingerprint_gen.readouts.0.attend.weight: torch.Size([256, 128])\n",
      "\tfingerprint_gen.readouts.0.attend.bias: torch.Size([256])\n",
      "\tfingerprint_gen.readouts.0.align.weight: torch.Size([1, 384])\n",
      "\tfingerprint_gen.readouts.0.align.bias: torch.Size([1])\n",
      "\tfingerprint_gen.readouts.1.attend.weight: torch.Size([256, 128])\n",
      "\tfingerprint_gen.readouts.1.attend.bias: torch.Size([256])\n",
      "\tfingerprint_gen.readouts.1.align.weight: torch.Size([1, 384])\n",
      "\tfingerprint_gen.readouts.1.align.bias: torch.Size([1])\n",
      "\tfingerprint_gen.unions.0.gru_cell.weight_ih: torch.Size([768, 256])\n",
      "\tfingerprint_gen.unions.0.gru_cell.weight_hh: torch.Size([768, 256])\n",
      "\tfingerprint_gen.unions.0.gru_cell.bias_ih: torch.Size([768])\n",
      "\tfingerprint_gen.unions.0.gru_cell.bias_hh: torch.Size([768])\n",
      "\tfingerprint_gen.unions.1.gru_cell.weight_ih: torch.Size([768, 256])\n",
      "\tfingerprint_gen.unions.1.gru_cell.weight_hh: torch.Size([768, 256])\n",
      "\tfingerprint_gen.unions.1.gru_cell.bias_ih: torch.Size([768])\n",
      "\tfingerprint_gen.unions.1.gru_cell.bias_hh: torch.Size([768])\n",
      "Number of parameters: 1524315\n"
     ]
    }
   ],
   "source": [
    "## 可以配置的参数有这些：\n",
    "seed = 0\n",
    "use_cuda = False\n",
    "\n",
    "\n",
    "import torch\n",
    "from functools import reduce\n",
    "from data.encode import num_atom_features, num_bond_features\n",
    "from train.config import QM9_CONFIG\n",
    "from net.models import GeomNN as PhysChem\n",
    "from rdkit import RDLogger\n",
    "\n",
    "RDLogger.DisableLog('rdApp.*')\n",
    "\n",
    "tag = \"QM9\"\n",
    "config = QM9_CONFIG.copy()\n",
    "print('##### CONFIG #####')\n",
    "for k, v in config.items():\n",
    "    print(f'\\t{k}: {v}')\n",
    "\n",
    "model = PhysChem(\n",
    "    atom_dim=num_atom_features(),\n",
    "    bond_dim=num_bond_features(),\n",
    "    config=config,\n",
    "    use_cuda=use_cuda\n",
    ")\n",
    "model_dicts = torch.load(f'train/models/{tag}-model.pkl', map_location=torch.device('cpu'))\n",
    "model.load_state_dict(model_dicts)\n",
    "model.eval()\n",
    "\n",
    "print('##### PARAMETERS #####')\n",
    "param_size = 0\n",
    "for name, param in model.named_parameters():\n",
    "    print(f'\\t{name}: {param.shape}')\n",
    "    param_size += reduce(lambda x, y: x * y, param.shape)\n",
    "print(f'Number of parameters: {param_size}')"
   ],
   "metadata": {
    "collapsed": false
   }
  },
  {
   "cell_type": "markdown",
   "source": [
    "如果顺利的话，你已经成功加载一个PhysChem模型了，现在我们来看看它的输入和输出吧："
   ],
   "metadata": {
    "collapsed": false
   }
  },
  {
   "cell_type": "code",
   "execution_count": 2,
   "outputs": [
    {
     "name": "stdout",
     "output_type": "stream",
     "text": [
      "\tStart encoding...\n",
      "\tEncoded: 1\n"
     ]
    }
   ],
   "source": [
    "import rdkit.Chem as Chem\n",
    "from train.utils.cache_batch import produce_batches_from_mols\n",
    "\n",
    "mol = Chem.MolFromSmiles(\"CC\")\n",
    "batches = produce_batches_from_mols([mol])\n",
    "batch = batches[0]\n",
    "\n",
    "fingerprint, conformations, *_ = model.forward(\n",
    "    atom_ftr=batch.atom_ftr,\n",
    "    bond_ftr=batch.bond_ftr,\n",
    "    massive=batch.massive,\n",
    "    mask_matrices=batch.mask_matrices,\n",
    "    return_derive=True,\n",
    ")"
   ],
   "metadata": {
    "collapsed": false
   }
  },
  {
   "cell_type": "markdown",
   "source": [
    "这个是分子指纹（molecular fingerprint），也就是表示一个分子的特征向量："
   ],
   "metadata": {
    "collapsed": false
   }
  },
  {
   "cell_type": "code",
   "execution_count": 3,
   "outputs": [
    {
     "name": "stdout",
     "output_type": "stream",
     "text": [
      "torch.Size([1, 256])\n"
     ]
    }
   ],
   "source": [
    "print(fingerprint.shape)"
   ],
   "metadata": {
    "collapsed": false
   }
  },
  {
   "cell_type": "markdown",
   "source": [
    "这个是分子在构型演化过程中，每个时间步的原子三维坐标："
   ],
   "metadata": {
    "collapsed": false
   }
  },
  {
   "cell_type": "code",
   "execution_count": 4,
   "outputs": [
    {
     "name": "stdout",
     "output_type": "stream",
     "text": [
      "10\n",
      "[[-1.2077603 -1.8745091  1.7269976]\n",
      " [-0.6036631 -2.7950263  2.8480675]]\n"
     ]
    }
   ],
   "source": [
    "print(len(conformations))\n",
    "print(conformations[-1].detach().numpy())"
   ],
   "metadata": {
    "collapsed": false
   }
  },
  {
   "cell_type": "markdown",
   "source": [
    "### 3.1. 物理构型生成\n",
    "\n",
    "在这部分中，我们将展示如何使用PhysChem为分子生成物理构型："
   ],
   "metadata": {
    "collapsed": false
   }
  },
  {
   "cell_type": "code",
   "execution_count": 5,
   "outputs": [
    {
     "name": "stdout",
     "output_type": "stream",
     "text": [
      "\tStart encoding...\n",
      "\tEncoded: 3\n"
     ]
    }
   ],
   "source": [
    "list_smiles = [\n",
    "    'O=Cc1cc(C#N)ccc1',\n",
    "    'C(C(C(=O)O)N)C(=O)O',\n",
    "    'CC(=O)OC1=CC=CC=C1C(=O)O',\n",
    "]\n",
    "\n",
    "mols = [Chem.MolFromSmiles(list_smiles[i]) for i in range(len(list_smiles))]\n",
    "batches = produce_batches_from_mols(mols)\n",
    "list_physchem_conformations = []\n",
    "for batch in batches:\n",
    "    _, conformations, *_ = model.forward(\n",
    "        atom_ftr=batch.atom_ftr,\n",
    "        bond_ftr=batch.bond_ftr,\n",
    "        massive=batch.massive,\n",
    "        mask_matrices=batch.mask_matrices,\n",
    "        return_derive=True,\n",
    "    )\n",
    "    list_physchem_conformations.append([conf.detach().numpy() for conf in conformations])"
   ],
   "metadata": {
    "collapsed": false
   }
  },
  {
   "cell_type": "markdown",
   "source": [
    "顺便用RDKit和[HamEng](https://openreview.net/forum?id=q-cnWaaoUTH)生成构型："
   ],
   "metadata": {
    "collapsed": false
   }
  },
  {
   "cell_type": "code",
   "execution_count": 6,
   "outputs": [],
   "source": [
    "from train.utils.rdkit import rdkit_mol_positions\n",
    "\n",
    "list_rdkit_conformation = [rdkit_mol_positions(mol) for mol in mols]"
   ],
   "metadata": {
    "collapsed": false
   }
  },
  {
   "cell_type": "code",
   "execution_count": 7,
   "outputs": [],
   "source": [
    "from net.models import MLP\n",
    "from net.baseline.HamEng.models import HamiltonianPositionProducer\n",
    "from train.HamEng.config import FITTER_CONFIG_QM9 as HAMENG_CONFIG\n",
    "from visualize.vis_derive import generate_derive\n",
    "\n",
    "config = HAMENG_CONFIG.copy()\n",
    "hameng_model = HamiltonianPositionProducer(\n",
    "    n_dim=num_atom_features(),\n",
    "    e_dim=num_bond_features(),\n",
    "    config=config,\n",
    "    use_cuda=use_cuda\n",
    ")\n",
    "conf_gen = MLP(\n",
    "    in_dim=config['PQ_DIM'],\n",
    "    out_dim=3,\n",
    "    use_cuda=use_cuda,\n",
    "    bias=False\n",
    ")\n",
    "\n",
    "model_dicts = torch.load(f'train/models/HamNet/HamEng@16880611-model.pkl', map_location=torch.device('cpu'))\n",
    "conf_dicts = torch.load(f'train/models/HamNet/HamEng@16880611-conf_gen.pkl', map_location=torch.device('cpu'))\n",
    "hameng_model.load_state_dict(model_dicts)\n",
    "conf_gen.load_state_dict(conf_dicts)\n",
    "model.eval()\n",
    "conf_gen.eval()\n",
    "\n",
    "list_hameng_conformations = []\n",
    "for batch in batches:\n",
    "    _, list_q_ftr, *_ = hameng_model.forward(\n",
    "        v_features=batch.atom_ftr,\n",
    "        e_features=batch.bond_ftr,\n",
    "        massive=batch.massive,\n",
    "        mask_matrices=batch.mask_matrices,\n",
    "        return_multi=True\n",
    "    )\n",
    "    list_hameng_conformations.append([conf_gen.forward(q).detach().numpy() for q in list_q_ftr])"
   ],
   "metadata": {
    "collapsed": false
   }
  },
  {
   "cell_type": "markdown",
   "source": [
    "然后对比这些模型生成的物理构型："
   ],
   "metadata": {
    "collapsed": false
   }
  },
  {
   "cell_type": "code",
   "execution_count": 8,
   "outputs": [
    {
     "name": "stdout",
     "output_type": "stream",
     "text": [
      "##### Generating SMILES O=Cc1cc(C#N)ccc1 #####\n",
      "\tRDKit:\n"
     ]
    },
    {
     "data": {
      "application/3dmoljs_load.v0": "<div id=\"3dmolviewer_16880972729797664\"  style=\"position: relative; width: 800px; height: 600px;\">\n        <p id=\"3dmolwarning_16880972729797664\" style=\"background-color:#ffcccc;color:black\">You appear to be running in JupyterLab (or JavaScript failed to load for some other reason).  You need to install the 3dmol extension: <br>\n        <tt>jupyter labextension install jupyterlab_3dmol</tt></p>\n        </div>\n<script>\n\nvar loadScriptAsync = function(uri){\n  return new Promise((resolve, reject) => {\n    //this is to ignore the existence of requirejs amd\n    var savedexports, savedmodule;\n    if (typeof exports !== 'undefined') savedexports = exports;\n    else exports = {}\n    if (typeof module !== 'undefined') savedmodule = module;\n    else module = {}\n\n    var tag = document.createElement('script');\n    tag.src = uri;\n    tag.async = true;\n    tag.onload = () => {\n        exports = savedexports;\n        module = savedmodule;\n        resolve();\n    };\n  var firstScriptTag = document.getElementsByTagName('script')[0];\n  firstScriptTag.parentNode.insertBefore(tag, firstScriptTag);\n});\n};\n\nif(typeof $3Dmolpromise === 'undefined') {\n$3Dmolpromise = null;\n  $3Dmolpromise = loadScriptAsync('https://cdnjs.cloudflare.com/ajax/libs/3Dmol/2.0.3/3Dmol-min.js');\n}\n\nvar viewer_16880972729797664 = null;\nvar warn = document.getElementById(\"3dmolwarning_16880972729797664\");\nif(warn) {\n    warn.parentNode.removeChild(warn);\n}\n$3Dmolpromise.then(function() {\nviewer_16880972729797664 = $3Dmol.createViewer(document.getElementById(\"3dmolviewer_16880972729797664\"),{backgroundColor:\"white\"});\nviewer_16880972729797664.zoomTo();\n\tviewer_16880972729797664.addModel(\"HETATM    1  O1  UNL     1       2.138  -2.301  -0.438  1.00  0.00           O  \\nHETATM    2  C1  UNL     1       2.323  -1.069  -0.607  1.00  0.00           C  \\nHETATM    3  C2  UNL     1       1.227  -0.166  -0.358  1.00  0.00           C  \\nHETATM    4  C3  UNL     1       0.001  -0.622   0.055  1.00  0.00           C  \\nHETATM    5  C4  UNL     1      -1.051   0.237   0.295  1.00  0.00           C  \\nHETATM    6  C5  UNL     1      -2.329  -0.256   0.727  1.00  0.00           C  \\nHETATM    7  N1  UNL     1      -3.341  -0.658   1.088  1.00  0.00           N  \\nHETATM    8  C6  UNL     1      -0.822   1.584   0.102  1.00  0.00           C  \\nHETATM    9  C7  UNL     1       0.403   2.054  -0.312  1.00  0.00           C  \\nHETATM   10  C8  UNL     1       1.452   1.197  -0.552  1.00  0.00           C  \\nCONECT    1    2    2\\nCONECT    2    3\\nCONECT    3    4    4   10\\nCONECT    4    5\\nCONECT    5    6    8    8\\nCONECT    6    7    7    7\\nCONECT    8    9\\nCONECT    9   10   10\\nEND\\n\");\n\tviewer_16880972729797664.setStyle({\"stick\": {}});\n\tviewer_16880972729797664.setStyle({\"model\": 0},{\"stick\": {\"colorscheme\": \"cyanCarbon\"}});\n\tviewer_16880972729797664.zoomTo();\nviewer_16880972729797664.render();\n});\n</script>",
      "text/html": "<div id=\"3dmolviewer_16880972729797664\"  style=\"position: relative; width: 800px; height: 600px;\">\n        <p id=\"3dmolwarning_16880972729797664\" style=\"background-color:#ffcccc;color:black\">You appear to be running in JupyterLab (or JavaScript failed to load for some other reason).  You need to install the 3dmol extension: <br>\n        <tt>jupyter labextension install jupyterlab_3dmol</tt></p>\n        </div>\n<script>\n\nvar loadScriptAsync = function(uri){\n  return new Promise((resolve, reject) => {\n    //this is to ignore the existence of requirejs amd\n    var savedexports, savedmodule;\n    if (typeof exports !== 'undefined') savedexports = exports;\n    else exports = {}\n    if (typeof module !== 'undefined') savedmodule = module;\n    else module = {}\n\n    var tag = document.createElement('script');\n    tag.src = uri;\n    tag.async = true;\n    tag.onload = () => {\n        exports = savedexports;\n        module = savedmodule;\n        resolve();\n    };\n  var firstScriptTag = document.getElementsByTagName('script')[0];\n  firstScriptTag.parentNode.insertBefore(tag, firstScriptTag);\n});\n};\n\nif(typeof $3Dmolpromise === 'undefined') {\n$3Dmolpromise = null;\n  $3Dmolpromise = loadScriptAsync('https://cdnjs.cloudflare.com/ajax/libs/3Dmol/2.0.3/3Dmol-min.js');\n}\n\nvar viewer_16880972729797664 = null;\nvar warn = document.getElementById(\"3dmolwarning_16880972729797664\");\nif(warn) {\n    warn.parentNode.removeChild(warn);\n}\n$3Dmolpromise.then(function() {\nviewer_16880972729797664 = $3Dmol.createViewer(document.getElementById(\"3dmolviewer_16880972729797664\"),{backgroundColor:\"white\"});\nviewer_16880972729797664.zoomTo();\n\tviewer_16880972729797664.addModel(\"HETATM    1  O1  UNL     1       2.138  -2.301  -0.438  1.00  0.00           O  \\nHETATM    2  C1  UNL     1       2.323  -1.069  -0.607  1.00  0.00           C  \\nHETATM    3  C2  UNL     1       1.227  -0.166  -0.358  1.00  0.00           C  \\nHETATM    4  C3  UNL     1       0.001  -0.622   0.055  1.00  0.00           C  \\nHETATM    5  C4  UNL     1      -1.051   0.237   0.295  1.00  0.00           C  \\nHETATM    6  C5  UNL     1      -2.329  -0.256   0.727  1.00  0.00           C  \\nHETATM    7  N1  UNL     1      -3.341  -0.658   1.088  1.00  0.00           N  \\nHETATM    8  C6  UNL     1      -0.822   1.584   0.102  1.00  0.00           C  \\nHETATM    9  C7  UNL     1       0.403   2.054  -0.312  1.00  0.00           C  \\nHETATM   10  C8  UNL     1       1.452   1.197  -0.552  1.00  0.00           C  \\nCONECT    1    2    2\\nCONECT    2    3\\nCONECT    3    4    4   10\\nCONECT    4    5\\nCONECT    5    6    8    8\\nCONECT    6    7    7    7\\nCONECT    8    9\\nCONECT    9   10   10\\nEND\\n\");\n\tviewer_16880972729797664.setStyle({\"stick\": {}});\n\tviewer_16880972729797664.setStyle({\"model\": 0},{\"stick\": {\"colorscheme\": \"cyanCarbon\"}});\n\tviewer_16880972729797664.zoomTo();\nviewer_16880972729797664.render();\n});\n</script>"
     },
     "metadata": {},
     "output_type": "display_data"
    },
    {
     "name": "stdout",
     "output_type": "stream",
     "text": [
      "\tHamEng:\n"
     ]
    },
    {
     "data": {
      "application/3dmoljs_load.v0": "<div id=\"3dmolviewer_16880972729848986\"  style=\"position: relative; width: 800px; height: 600px;\">\n        <p id=\"3dmolwarning_16880972729848986\" style=\"background-color:#ffcccc;color:black\">You appear to be running in JupyterLab (or JavaScript failed to load for some other reason).  You need to install the 3dmol extension: <br>\n        <tt>jupyter labextension install jupyterlab_3dmol</tt></p>\n        </div>\n<script>\n\nvar loadScriptAsync = function(uri){\n  return new Promise((resolve, reject) => {\n    //this is to ignore the existence of requirejs amd\n    var savedexports, savedmodule;\n    if (typeof exports !== 'undefined') savedexports = exports;\n    else exports = {}\n    if (typeof module !== 'undefined') savedmodule = module;\n    else module = {}\n\n    var tag = document.createElement('script');\n    tag.src = uri;\n    tag.async = true;\n    tag.onload = () => {\n        exports = savedexports;\n        module = savedmodule;\n        resolve();\n    };\n  var firstScriptTag = document.getElementsByTagName('script')[0];\n  firstScriptTag.parentNode.insertBefore(tag, firstScriptTag);\n});\n};\n\nif(typeof $3Dmolpromise === 'undefined') {\n$3Dmolpromise = null;\n  $3Dmolpromise = loadScriptAsync('https://cdnjs.cloudflare.com/ajax/libs/3Dmol/2.0.3/3Dmol-min.js');\n}\n\nvar viewer_16880972729848986 = null;\nvar warn = document.getElementById(\"3dmolwarning_16880972729848986\");\nif(warn) {\n    warn.parentNode.removeChild(warn);\n}\n$3Dmolpromise.then(function() {\nviewer_16880972729848986 = $3Dmol.createViewer(document.getElementById(\"3dmolviewer_16880972729848986\"),{backgroundColor:\"white\"});\nviewer_16880972729848986.zoomTo();\n\tviewer_16880972729848986.addModel(\"HETATM    1  O1  UNL     1      -1.159   0.599  -2.205  1.00  0.00           O  \\nHETATM    2  C1  UNL     1      -1.545   0.758  -1.142  1.00  0.00           C  \\nHETATM    3  C2  UNL     1      -1.325   0.550   0.205  1.00  0.00           C  \\nHETATM    4  C3  UNL     1      -0.960   0.431   1.163  1.00  0.00           C  \\nHETATM    5  C4  UNL     1       0.443  -0.084   0.999  1.00  0.00           C  \\nHETATM    6  C5  UNL     1       1.319   1.001   1.104  1.00  0.00           C  \\nHETATM    7  N1  UNL     1       2.005   1.341   0.222  1.00  0.00           N  \\nHETATM    8  C6  UNL     1       1.006  -1.161   0.557  1.00  0.00           C  \\nHETATM    9  C7  UNL     1       0.506  -1.721  -0.382  1.00  0.00           C  \\nHETATM   10  C8  UNL     1      -0.290  -1.715  -0.522  1.00  0.00           C  \\nCONECT    1    2    2\\nCONECT    2    3\\nCONECT    3    4    4   10\\nCONECT    4    5\\nCONECT    5    6    8    8\\nCONECT    6    7    7    7\\nCONECT    8    9\\nCONECT    9   10   10\\nEND\\n\");\n\tviewer_16880972729848986.setStyle({\"stick\": {}});\n\tviewer_16880972729848986.setStyle({\"model\": 0},{\"stick\": {\"colorscheme\": \"cyanCarbon\"}});\n\tviewer_16880972729848986.zoomTo();\nviewer_16880972729848986.render();\n});\n</script>",
      "text/html": "<div id=\"3dmolviewer_16880972729848986\"  style=\"position: relative; width: 800px; height: 600px;\">\n        <p id=\"3dmolwarning_16880972729848986\" style=\"background-color:#ffcccc;color:black\">You appear to be running in JupyterLab (or JavaScript failed to load for some other reason).  You need to install the 3dmol extension: <br>\n        <tt>jupyter labextension install jupyterlab_3dmol</tt></p>\n        </div>\n<script>\n\nvar loadScriptAsync = function(uri){\n  return new Promise((resolve, reject) => {\n    //this is to ignore the existence of requirejs amd\n    var savedexports, savedmodule;\n    if (typeof exports !== 'undefined') savedexports = exports;\n    else exports = {}\n    if (typeof module !== 'undefined') savedmodule = module;\n    else module = {}\n\n    var tag = document.createElement('script');\n    tag.src = uri;\n    tag.async = true;\n    tag.onload = () => {\n        exports = savedexports;\n        module = savedmodule;\n        resolve();\n    };\n  var firstScriptTag = document.getElementsByTagName('script')[0];\n  firstScriptTag.parentNode.insertBefore(tag, firstScriptTag);\n});\n};\n\nif(typeof $3Dmolpromise === 'undefined') {\n$3Dmolpromise = null;\n  $3Dmolpromise = loadScriptAsync('https://cdnjs.cloudflare.com/ajax/libs/3Dmol/2.0.3/3Dmol-min.js');\n}\n\nvar viewer_16880972729848986 = null;\nvar warn = document.getElementById(\"3dmolwarning_16880972729848986\");\nif(warn) {\n    warn.parentNode.removeChild(warn);\n}\n$3Dmolpromise.then(function() {\nviewer_16880972729848986 = $3Dmol.createViewer(document.getElementById(\"3dmolviewer_16880972729848986\"),{backgroundColor:\"white\"});\nviewer_16880972729848986.zoomTo();\n\tviewer_16880972729848986.addModel(\"HETATM    1  O1  UNL     1      -1.159   0.599  -2.205  1.00  0.00           O  \\nHETATM    2  C1  UNL     1      -1.545   0.758  -1.142  1.00  0.00           C  \\nHETATM    3  C2  UNL     1      -1.325   0.550   0.205  1.00  0.00           C  \\nHETATM    4  C3  UNL     1      -0.960   0.431   1.163  1.00  0.00           C  \\nHETATM    5  C4  UNL     1       0.443  -0.084   0.999  1.00  0.00           C  \\nHETATM    6  C5  UNL     1       1.319   1.001   1.104  1.00  0.00           C  \\nHETATM    7  N1  UNL     1       2.005   1.341   0.222  1.00  0.00           N  \\nHETATM    8  C6  UNL     1       1.006  -1.161   0.557  1.00  0.00           C  \\nHETATM    9  C7  UNL     1       0.506  -1.721  -0.382  1.00  0.00           C  \\nHETATM   10  C8  UNL     1      -0.290  -1.715  -0.522  1.00  0.00           C  \\nCONECT    1    2    2\\nCONECT    2    3\\nCONECT    3    4    4   10\\nCONECT    4    5\\nCONECT    5    6    8    8\\nCONECT    6    7    7    7\\nCONECT    8    9\\nCONECT    9   10   10\\nEND\\n\");\n\tviewer_16880972729848986.setStyle({\"stick\": {}});\n\tviewer_16880972729848986.setStyle({\"model\": 0},{\"stick\": {\"colorscheme\": \"cyanCarbon\"}});\n\tviewer_16880972729848986.zoomTo();\nviewer_16880972729848986.render();\n});\n</script>"
     },
     "metadata": {},
     "output_type": "display_data"
    },
    {
     "name": "stdout",
     "output_type": "stream",
     "text": [
      "\tPhysChem:\n"
     ]
    },
    {
     "data": {
      "application/3dmoljs_load.v0": "<div id=\"3dmolviewer_1688097272990735\"  style=\"position: relative; width: 800px; height: 600px;\">\n        <p id=\"3dmolwarning_1688097272990735\" style=\"background-color:#ffcccc;color:black\">You appear to be running in JupyterLab (or JavaScript failed to load for some other reason).  You need to install the 3dmol extension: <br>\n        <tt>jupyter labextension install jupyterlab_3dmol</tt></p>\n        </div>\n<script>\n\nvar loadScriptAsync = function(uri){\n  return new Promise((resolve, reject) => {\n    //this is to ignore the existence of requirejs amd\n    var savedexports, savedmodule;\n    if (typeof exports !== 'undefined') savedexports = exports;\n    else exports = {}\n    if (typeof module !== 'undefined') savedmodule = module;\n    else module = {}\n\n    var tag = document.createElement('script');\n    tag.src = uri;\n    tag.async = true;\n    tag.onload = () => {\n        exports = savedexports;\n        module = savedmodule;\n        resolve();\n    };\n  var firstScriptTag = document.getElementsByTagName('script')[0];\n  firstScriptTag.parentNode.insertBefore(tag, firstScriptTag);\n});\n};\n\nif(typeof $3Dmolpromise === 'undefined') {\n$3Dmolpromise = null;\n  $3Dmolpromise = loadScriptAsync('https://cdnjs.cloudflare.com/ajax/libs/3Dmol/2.0.3/3Dmol-min.js');\n}\n\nvar viewer_1688097272990735 = null;\nvar warn = document.getElementById(\"3dmolwarning_1688097272990735\");\nif(warn) {\n    warn.parentNode.removeChild(warn);\n}\n$3Dmolpromise.then(function() {\nviewer_1688097272990735 = $3Dmol.createViewer(document.getElementById(\"3dmolviewer_1688097272990735\"),{backgroundColor:\"white\"});\nviewer_1688097272990735.zoomTo();\n\tviewer_1688097272990735.addModel(\"HETATM    1  O1  UNL     1       2.634  -1.260  -1.562  1.00  0.00           O  \\nHETATM    2  C1  UNL     1       2.422  -0.571  -0.599  1.00  0.00           C  \\nHETATM    3  C2  UNL     1       1.227  -0.012  -0.073  1.00  0.00           C  \\nHETATM    4  C3  UNL     1       0.340  -0.548   0.849  1.00  0.00           C  \\nHETATM    5  C4  UNL     1      -1.037  -0.090   0.675  1.00  0.00           C  \\nHETATM    6  C5  UNL     1      -2.329  -0.545   1.195  1.00  0.00           C  \\nHETATM    7  N1  UNL     1      -3.337  -1.257   0.901  1.00  0.00           N  \\nHETATM    8  C6  UNL     1      -1.000   1.134  -0.132  1.00  0.00           C  \\nHETATM    9  C7  UNL     1      -0.014   1.822  -0.690  1.00  0.00           C  \\nHETATM   10  C8  UNL     1       1.095   1.327  -0.565  1.00  0.00           C  \\nCONECT    1    2    2\\nCONECT    2    3\\nCONECT    3    4    4   10\\nCONECT    4    5\\nCONECT    5    6    8    8\\nCONECT    6    7    7    7\\nCONECT    8    9\\nCONECT    9   10   10\\nEND\\n\");\n\tviewer_1688097272990735.setStyle({\"stick\": {}});\n\tviewer_1688097272990735.setStyle({\"model\": 0},{\"stick\": {\"colorscheme\": \"cyanCarbon\"}});\n\tviewer_1688097272990735.zoomTo();\nviewer_1688097272990735.render();\n});\n</script>",
      "text/html": "<div id=\"3dmolviewer_1688097272990735\"  style=\"position: relative; width: 800px; height: 600px;\">\n        <p id=\"3dmolwarning_1688097272990735\" style=\"background-color:#ffcccc;color:black\">You appear to be running in JupyterLab (or JavaScript failed to load for some other reason).  You need to install the 3dmol extension: <br>\n        <tt>jupyter labextension install jupyterlab_3dmol</tt></p>\n        </div>\n<script>\n\nvar loadScriptAsync = function(uri){\n  return new Promise((resolve, reject) => {\n    //this is to ignore the existence of requirejs amd\n    var savedexports, savedmodule;\n    if (typeof exports !== 'undefined') savedexports = exports;\n    else exports = {}\n    if (typeof module !== 'undefined') savedmodule = module;\n    else module = {}\n\n    var tag = document.createElement('script');\n    tag.src = uri;\n    tag.async = true;\n    tag.onload = () => {\n        exports = savedexports;\n        module = savedmodule;\n        resolve();\n    };\n  var firstScriptTag = document.getElementsByTagName('script')[0];\n  firstScriptTag.parentNode.insertBefore(tag, firstScriptTag);\n});\n};\n\nif(typeof $3Dmolpromise === 'undefined') {\n$3Dmolpromise = null;\n  $3Dmolpromise = loadScriptAsync('https://cdnjs.cloudflare.com/ajax/libs/3Dmol/2.0.3/3Dmol-min.js');\n}\n\nvar viewer_1688097272990735 = null;\nvar warn = document.getElementById(\"3dmolwarning_1688097272990735\");\nif(warn) {\n    warn.parentNode.removeChild(warn);\n}\n$3Dmolpromise.then(function() {\nviewer_1688097272990735 = $3Dmol.createViewer(document.getElementById(\"3dmolviewer_1688097272990735\"),{backgroundColor:\"white\"});\nviewer_1688097272990735.zoomTo();\n\tviewer_1688097272990735.addModel(\"HETATM    1  O1  UNL     1       2.634  -1.260  -1.562  1.00  0.00           O  \\nHETATM    2  C1  UNL     1       2.422  -0.571  -0.599  1.00  0.00           C  \\nHETATM    3  C2  UNL     1       1.227  -0.012  -0.073  1.00  0.00           C  \\nHETATM    4  C3  UNL     1       0.340  -0.548   0.849  1.00  0.00           C  \\nHETATM    5  C4  UNL     1      -1.037  -0.090   0.675  1.00  0.00           C  \\nHETATM    6  C5  UNL     1      -2.329  -0.545   1.195  1.00  0.00           C  \\nHETATM    7  N1  UNL     1      -3.337  -1.257   0.901  1.00  0.00           N  \\nHETATM    8  C6  UNL     1      -1.000   1.134  -0.132  1.00  0.00           C  \\nHETATM    9  C7  UNL     1      -0.014   1.822  -0.690  1.00  0.00           C  \\nHETATM   10  C8  UNL     1       1.095   1.327  -0.565  1.00  0.00           C  \\nCONECT    1    2    2\\nCONECT    2    3\\nCONECT    3    4    4   10\\nCONECT    4    5\\nCONECT    5    6    8    8\\nCONECT    6    7    7    7\\nCONECT    8    9\\nCONECT    9   10   10\\nEND\\n\");\n\tviewer_1688097272990735.setStyle({\"stick\": {}});\n\tviewer_1688097272990735.setStyle({\"model\": 0},{\"stick\": {\"colorscheme\": \"cyanCarbon\"}});\n\tviewer_1688097272990735.zoomTo();\nviewer_1688097272990735.render();\n});\n</script>"
     },
     "metadata": {},
     "output_type": "display_data"
    },
    {
     "name": "stdout",
     "output_type": "stream",
     "text": [
      "##### Generating SMILES C(C(C(=O)O)N)C(=O)O #####\n",
      "\tRDKit:\n"
     ]
    },
    {
     "data": {
      "application/3dmoljs_load.v0": "<div id=\"3dmolviewer_16880972729966075\"  style=\"position: relative; width: 800px; height: 600px;\">\n        <p id=\"3dmolwarning_16880972729966075\" style=\"background-color:#ffcccc;color:black\">You appear to be running in JupyterLab (or JavaScript failed to load for some other reason).  You need to install the 3dmol extension: <br>\n        <tt>jupyter labextension install jupyterlab_3dmol</tt></p>\n        </div>\n<script>\n\nvar loadScriptAsync = function(uri){\n  return new Promise((resolve, reject) => {\n    //this is to ignore the existence of requirejs amd\n    var savedexports, savedmodule;\n    if (typeof exports !== 'undefined') savedexports = exports;\n    else exports = {}\n    if (typeof module !== 'undefined') savedmodule = module;\n    else module = {}\n\n    var tag = document.createElement('script');\n    tag.src = uri;\n    tag.async = true;\n    tag.onload = () => {\n        exports = savedexports;\n        module = savedmodule;\n        resolve();\n    };\n  var firstScriptTag = document.getElementsByTagName('script')[0];\n  firstScriptTag.parentNode.insertBefore(tag, firstScriptTag);\n});\n};\n\nif(typeof $3Dmolpromise === 'undefined') {\n$3Dmolpromise = null;\n  $3Dmolpromise = loadScriptAsync('https://cdnjs.cloudflare.com/ajax/libs/3Dmol/2.0.3/3Dmol-min.js');\n}\n\nvar viewer_16880972729966075 = null;\nvar warn = document.getElementById(\"3dmolwarning_16880972729966075\");\nif(warn) {\n    warn.parentNode.removeChild(warn);\n}\n$3Dmolpromise.then(function() {\nviewer_16880972729966075 = $3Dmol.createViewer(document.getElementById(\"3dmolviewer_16880972729966075\"),{backgroundColor:\"white\"});\nviewer_16880972729966075.zoomTo();\n\tviewer_16880972729966075.addModel(\"HETATM    1  C1  UNL     1       0.905   0.707   0.471  1.00  0.00           C  \\nHETATM    2  C2  UNL     1      -0.432   0.920  -0.110  1.00  0.00           C  \\nHETATM    3  C3  UNL     1      -1.367  -0.155   0.009  1.00  0.00           C  \\nHETATM    4  O1  UNL     1      -2.638   0.063   0.079  1.00  0.00           O  \\nHETATM    5  O2  UNL     1      -0.951  -1.486   0.056  1.00  0.00           O  \\nHETATM    6  N1  UNL     1      -0.896   2.256  -0.093  1.00  0.00           N  \\nHETATM    7  C4  UNL     1       1.579  -0.437  -0.161  1.00  0.00           C  \\nHETATM    8  O3  UNL     1       1.615  -1.531   0.426  1.00  0.00           O  \\nHETATM    9  O4  UNL     1       2.184  -0.336  -1.394  1.00  0.00           O  \\nCONECT    1    2    7\\nCONECT    2    3    6\\nCONECT    3    4    4    5\\nCONECT    7    8    8    9\\nEND\\n\");\n\tviewer_16880972729966075.setStyle({\"stick\": {}});\n\tviewer_16880972729966075.setStyle({\"model\": 0},{\"stick\": {\"colorscheme\": \"cyanCarbon\"}});\n\tviewer_16880972729966075.zoomTo();\nviewer_16880972729966075.render();\n});\n</script>",
      "text/html": "<div id=\"3dmolviewer_16880972729966075\"  style=\"position: relative; width: 800px; height: 600px;\">\n        <p id=\"3dmolwarning_16880972729966075\" style=\"background-color:#ffcccc;color:black\">You appear to be running in JupyterLab (or JavaScript failed to load for some other reason).  You need to install the 3dmol extension: <br>\n        <tt>jupyter labextension install jupyterlab_3dmol</tt></p>\n        </div>\n<script>\n\nvar loadScriptAsync = function(uri){\n  return new Promise((resolve, reject) => {\n    //this is to ignore the existence of requirejs amd\n    var savedexports, savedmodule;\n    if (typeof exports !== 'undefined') savedexports = exports;\n    else exports = {}\n    if (typeof module !== 'undefined') savedmodule = module;\n    else module = {}\n\n    var tag = document.createElement('script');\n    tag.src = uri;\n    tag.async = true;\n    tag.onload = () => {\n        exports = savedexports;\n        module = savedmodule;\n        resolve();\n    };\n  var firstScriptTag = document.getElementsByTagName('script')[0];\n  firstScriptTag.parentNode.insertBefore(tag, firstScriptTag);\n});\n};\n\nif(typeof $3Dmolpromise === 'undefined') {\n$3Dmolpromise = null;\n  $3Dmolpromise = loadScriptAsync('https://cdnjs.cloudflare.com/ajax/libs/3Dmol/2.0.3/3Dmol-min.js');\n}\n\nvar viewer_16880972729966075 = null;\nvar warn = document.getElementById(\"3dmolwarning_16880972729966075\");\nif(warn) {\n    warn.parentNode.removeChild(warn);\n}\n$3Dmolpromise.then(function() {\nviewer_16880972729966075 = $3Dmol.createViewer(document.getElementById(\"3dmolviewer_16880972729966075\"),{backgroundColor:\"white\"});\nviewer_16880972729966075.zoomTo();\n\tviewer_16880972729966075.addModel(\"HETATM    1  C1  UNL     1       0.905   0.707   0.471  1.00  0.00           C  \\nHETATM    2  C2  UNL     1      -0.432   0.920  -0.110  1.00  0.00           C  \\nHETATM    3  C3  UNL     1      -1.367  -0.155   0.009  1.00  0.00           C  \\nHETATM    4  O1  UNL     1      -2.638   0.063   0.079  1.00  0.00           O  \\nHETATM    5  O2  UNL     1      -0.951  -1.486   0.056  1.00  0.00           O  \\nHETATM    6  N1  UNL     1      -0.896   2.256  -0.093  1.00  0.00           N  \\nHETATM    7  C4  UNL     1       1.579  -0.437  -0.161  1.00  0.00           C  \\nHETATM    8  O3  UNL     1       1.615  -1.531   0.426  1.00  0.00           O  \\nHETATM    9  O4  UNL     1       2.184  -0.336  -1.394  1.00  0.00           O  \\nCONECT    1    2    7\\nCONECT    2    3    6\\nCONECT    3    4    4    5\\nCONECT    7    8    8    9\\nEND\\n\");\n\tviewer_16880972729966075.setStyle({\"stick\": {}});\n\tviewer_16880972729966075.setStyle({\"model\": 0},{\"stick\": {\"colorscheme\": \"cyanCarbon\"}});\n\tviewer_16880972729966075.zoomTo();\nviewer_16880972729966075.render();\n});\n</script>"
     },
     "metadata": {},
     "output_type": "display_data"
    },
    {
     "name": "stdout",
     "output_type": "stream",
     "text": [
      "\tHamEng:\n"
     ]
    },
    {
     "data": {
      "application/3dmoljs_load.v0": "<div id=\"3dmolviewer_1688097273000541\"  style=\"position: relative; width: 800px; height: 600px;\">\n        <p id=\"3dmolwarning_1688097273000541\" style=\"background-color:#ffcccc;color:black\">You appear to be running in JupyterLab (or JavaScript failed to load for some other reason).  You need to install the 3dmol extension: <br>\n        <tt>jupyter labextension install jupyterlab_3dmol</tt></p>\n        </div>\n<script>\n\nvar loadScriptAsync = function(uri){\n  return new Promise((resolve, reject) => {\n    //this is to ignore the existence of requirejs amd\n    var savedexports, savedmodule;\n    if (typeof exports !== 'undefined') savedexports = exports;\n    else exports = {}\n    if (typeof module !== 'undefined') savedmodule = module;\n    else module = {}\n\n    var tag = document.createElement('script');\n    tag.src = uri;\n    tag.async = true;\n    tag.onload = () => {\n        exports = savedexports;\n        module = savedmodule;\n        resolve();\n    };\n  var firstScriptTag = document.getElementsByTagName('script')[0];\n  firstScriptTag.parentNode.insertBefore(tag, firstScriptTag);\n});\n};\n\nif(typeof $3Dmolpromise === 'undefined') {\n$3Dmolpromise = null;\n  $3Dmolpromise = loadScriptAsync('https://cdnjs.cloudflare.com/ajax/libs/3Dmol/2.0.3/3Dmol-min.js');\n}\n\nvar viewer_1688097273000541 = null;\nvar warn = document.getElementById(\"3dmolwarning_1688097273000541\");\nif(warn) {\n    warn.parentNode.removeChild(warn);\n}\n$3Dmolpromise.then(function() {\nviewer_1688097273000541 = $3Dmol.createViewer(document.getElementById(\"3dmolviewer_1688097273000541\"),{backgroundColor:\"white\"});\nviewer_1688097273000541.zoomTo();\n\tviewer_1688097273000541.addModel(\"HETATM    1  C1  UNL     1       0.123   1.087   0.640  1.00  0.00           C  \\nHETATM    2  C2  UNL     1      -0.462   0.969  -0.226  1.00  0.00           C  \\nHETATM    3  C3  UNL     1      -1.165   0.652  -0.824  1.00  0.00           C  \\nHETATM    4  O1  UNL     1      -2.456   0.456   0.177  1.00  0.00           O  \\nHETATM    5  O2  UNL     1      -1.403  -0.486   0.112  1.00  0.00           O  \\nHETATM    6  N1  UNL     1      -0.044  -1.032   0.118  1.00  0.00           N  \\nHETATM    7  C4  UNL     1       1.061  -0.489  -0.561  1.00  0.00           C  \\nHETATM    8  O3  UNL     1       1.942  -1.160   0.279  1.00  0.00           O  \\nHETATM    9  O4  UNL     1       2.404   0.002   0.284  1.00  0.00           O  \\nCONECT    1    2    7\\nCONECT    2    3    6\\nCONECT    3    4    4    5\\nCONECT    7    8    8    9\\nEND\\n\");\n\tviewer_1688097273000541.setStyle({\"stick\": {}});\n\tviewer_1688097273000541.setStyle({\"model\": 0},{\"stick\": {\"colorscheme\": \"cyanCarbon\"}});\n\tviewer_1688097273000541.zoomTo();\nviewer_1688097273000541.render();\n});\n</script>",
      "text/html": "<div id=\"3dmolviewer_1688097273000541\"  style=\"position: relative; width: 800px; height: 600px;\">\n        <p id=\"3dmolwarning_1688097273000541\" style=\"background-color:#ffcccc;color:black\">You appear to be running in JupyterLab (or JavaScript failed to load for some other reason).  You need to install the 3dmol extension: <br>\n        <tt>jupyter labextension install jupyterlab_3dmol</tt></p>\n        </div>\n<script>\n\nvar loadScriptAsync = function(uri){\n  return new Promise((resolve, reject) => {\n    //this is to ignore the existence of requirejs amd\n    var savedexports, savedmodule;\n    if (typeof exports !== 'undefined') savedexports = exports;\n    else exports = {}\n    if (typeof module !== 'undefined') savedmodule = module;\n    else module = {}\n\n    var tag = document.createElement('script');\n    tag.src = uri;\n    tag.async = true;\n    tag.onload = () => {\n        exports = savedexports;\n        module = savedmodule;\n        resolve();\n    };\n  var firstScriptTag = document.getElementsByTagName('script')[0];\n  firstScriptTag.parentNode.insertBefore(tag, firstScriptTag);\n});\n};\n\nif(typeof $3Dmolpromise === 'undefined') {\n$3Dmolpromise = null;\n  $3Dmolpromise = loadScriptAsync('https://cdnjs.cloudflare.com/ajax/libs/3Dmol/2.0.3/3Dmol-min.js');\n}\n\nvar viewer_1688097273000541 = null;\nvar warn = document.getElementById(\"3dmolwarning_1688097273000541\");\nif(warn) {\n    warn.parentNode.removeChild(warn);\n}\n$3Dmolpromise.then(function() {\nviewer_1688097273000541 = $3Dmol.createViewer(document.getElementById(\"3dmolviewer_1688097273000541\"),{backgroundColor:\"white\"});\nviewer_1688097273000541.zoomTo();\n\tviewer_1688097273000541.addModel(\"HETATM    1  C1  UNL     1       0.123   1.087   0.640  1.00  0.00           C  \\nHETATM    2  C2  UNL     1      -0.462   0.969  -0.226  1.00  0.00           C  \\nHETATM    3  C3  UNL     1      -1.165   0.652  -0.824  1.00  0.00           C  \\nHETATM    4  O1  UNL     1      -2.456   0.456   0.177  1.00  0.00           O  \\nHETATM    5  O2  UNL     1      -1.403  -0.486   0.112  1.00  0.00           O  \\nHETATM    6  N1  UNL     1      -0.044  -1.032   0.118  1.00  0.00           N  \\nHETATM    7  C4  UNL     1       1.061  -0.489  -0.561  1.00  0.00           C  \\nHETATM    8  O3  UNL     1       1.942  -1.160   0.279  1.00  0.00           O  \\nHETATM    9  O4  UNL     1       2.404   0.002   0.284  1.00  0.00           O  \\nCONECT    1    2    7\\nCONECT    2    3    6\\nCONECT    3    4    4    5\\nCONECT    7    8    8    9\\nEND\\n\");\n\tviewer_1688097273000541.setStyle({\"stick\": {}});\n\tviewer_1688097273000541.setStyle({\"model\": 0},{\"stick\": {\"colorscheme\": \"cyanCarbon\"}});\n\tviewer_1688097273000541.zoomTo();\nviewer_1688097273000541.render();\n});\n</script>"
     },
     "metadata": {},
     "output_type": "display_data"
    },
    {
     "name": "stdout",
     "output_type": "stream",
     "text": [
      "\tPhysChem:\n"
     ]
    },
    {
     "data": {
      "application/3dmoljs_load.v0": "<div id=\"3dmolviewer_16880972730047312\"  style=\"position: relative; width: 800px; height: 600px;\">\n        <p id=\"3dmolwarning_16880972730047312\" style=\"background-color:#ffcccc;color:black\">You appear to be running in JupyterLab (or JavaScript failed to load for some other reason).  You need to install the 3dmol extension: <br>\n        <tt>jupyter labextension install jupyterlab_3dmol</tt></p>\n        </div>\n<script>\n\nvar loadScriptAsync = function(uri){\n  return new Promise((resolve, reject) => {\n    //this is to ignore the existence of requirejs amd\n    var savedexports, savedmodule;\n    if (typeof exports !== 'undefined') savedexports = exports;\n    else exports = {}\n    if (typeof module !== 'undefined') savedmodule = module;\n    else module = {}\n\n    var tag = document.createElement('script');\n    tag.src = uri;\n    tag.async = true;\n    tag.onload = () => {\n        exports = savedexports;\n        module = savedmodule;\n        resolve();\n    };\n  var firstScriptTag = document.getElementsByTagName('script')[0];\n  firstScriptTag.parentNode.insertBefore(tag, firstScriptTag);\n});\n};\n\nif(typeof $3Dmolpromise === 'undefined') {\n$3Dmolpromise = null;\n  $3Dmolpromise = loadScriptAsync('https://cdnjs.cloudflare.com/ajax/libs/3Dmol/2.0.3/3Dmol-min.js');\n}\n\nvar viewer_16880972730047312 = null;\nvar warn = document.getElementById(\"3dmolwarning_16880972730047312\");\nif(warn) {\n    warn.parentNode.removeChild(warn);\n}\n$3Dmolpromise.then(function() {\nviewer_16880972730047312 = $3Dmol.createViewer(document.getElementById(\"3dmolviewer_16880972730047312\"),{backgroundColor:\"white\"});\nviewer_16880972730047312.zoomTo();\n\tviewer_16880972730047312.addModel(\"HETATM    1  C1  UNL     1       0.494   0.291   1.132  1.00  0.00           C  \\nHETATM    2  C2  UNL     1       0.381   0.420   0.002  1.00  0.00           C  \\nHETATM    3  C3  UNL     1       0.706   1.232  -0.919  1.00  0.00           C  \\nHETATM    4  O1  UNL     1       1.271   1.767  -1.392  1.00  0.00           O  \\nHETATM    5  O2  UNL     1      -0.275   2.349  -0.704  1.00  0.00           O  \\nHETATM    6  N1  UNL     1      -0.987   0.121   0.495  1.00  0.00           N  \\nHETATM    7  C4  UNL     1      -0.281  -1.865   0.382  1.00  0.00           C  \\nHETATM    8  O3  UNL     1      -1.559  -1.949   0.479  1.00  0.00           O  \\nHETATM    9  O4  UNL     1       0.250  -2.367   0.526  1.00  0.00           O  \\nCONECT    1    2    7\\nCONECT    2    3    6\\nCONECT    3    4    4    5\\nCONECT    7    8    8    9\\nEND\\n\");\n\tviewer_16880972730047312.setStyle({\"stick\": {}});\n\tviewer_16880972730047312.setStyle({\"model\": 0},{\"stick\": {\"colorscheme\": \"cyanCarbon\"}});\n\tviewer_16880972730047312.zoomTo();\nviewer_16880972730047312.render();\n});\n</script>",
      "text/html": "<div id=\"3dmolviewer_16880972730047312\"  style=\"position: relative; width: 800px; height: 600px;\">\n        <p id=\"3dmolwarning_16880972730047312\" style=\"background-color:#ffcccc;color:black\">You appear to be running in JupyterLab (or JavaScript failed to load for some other reason).  You need to install the 3dmol extension: <br>\n        <tt>jupyter labextension install jupyterlab_3dmol</tt></p>\n        </div>\n<script>\n\nvar loadScriptAsync = function(uri){\n  return new Promise((resolve, reject) => {\n    //this is to ignore the existence of requirejs amd\n    var savedexports, savedmodule;\n    if (typeof exports !== 'undefined') savedexports = exports;\n    else exports = {}\n    if (typeof module !== 'undefined') savedmodule = module;\n    else module = {}\n\n    var tag = document.createElement('script');\n    tag.src = uri;\n    tag.async = true;\n    tag.onload = () => {\n        exports = savedexports;\n        module = savedmodule;\n        resolve();\n    };\n  var firstScriptTag = document.getElementsByTagName('script')[0];\n  firstScriptTag.parentNode.insertBefore(tag, firstScriptTag);\n});\n};\n\nif(typeof $3Dmolpromise === 'undefined') {\n$3Dmolpromise = null;\n  $3Dmolpromise = loadScriptAsync('https://cdnjs.cloudflare.com/ajax/libs/3Dmol/2.0.3/3Dmol-min.js');\n}\n\nvar viewer_16880972730047312 = null;\nvar warn = document.getElementById(\"3dmolwarning_16880972730047312\");\nif(warn) {\n    warn.parentNode.removeChild(warn);\n}\n$3Dmolpromise.then(function() {\nviewer_16880972730047312 = $3Dmol.createViewer(document.getElementById(\"3dmolviewer_16880972730047312\"),{backgroundColor:\"white\"});\nviewer_16880972730047312.zoomTo();\n\tviewer_16880972730047312.addModel(\"HETATM    1  C1  UNL     1       0.494   0.291   1.132  1.00  0.00           C  \\nHETATM    2  C2  UNL     1       0.381   0.420   0.002  1.00  0.00           C  \\nHETATM    3  C3  UNL     1       0.706   1.232  -0.919  1.00  0.00           C  \\nHETATM    4  O1  UNL     1       1.271   1.767  -1.392  1.00  0.00           O  \\nHETATM    5  O2  UNL     1      -0.275   2.349  -0.704  1.00  0.00           O  \\nHETATM    6  N1  UNL     1      -0.987   0.121   0.495  1.00  0.00           N  \\nHETATM    7  C4  UNL     1      -0.281  -1.865   0.382  1.00  0.00           C  \\nHETATM    8  O3  UNL     1      -1.559  -1.949   0.479  1.00  0.00           O  \\nHETATM    9  O4  UNL     1       0.250  -2.367   0.526  1.00  0.00           O  \\nCONECT    1    2    7\\nCONECT    2    3    6\\nCONECT    3    4    4    5\\nCONECT    7    8    8    9\\nEND\\n\");\n\tviewer_16880972730047312.setStyle({\"stick\": {}});\n\tviewer_16880972730047312.setStyle({\"model\": 0},{\"stick\": {\"colorscheme\": \"cyanCarbon\"}});\n\tviewer_16880972730047312.zoomTo();\nviewer_16880972730047312.render();\n});\n</script>"
     },
     "metadata": {},
     "output_type": "display_data"
    },
    {
     "name": "stdout",
     "output_type": "stream",
     "text": [
      "##### Generating SMILES CC(=O)OC1=CC=CC=C1C(=O)O #####\n",
      "\tRDKit:\n"
     ]
    },
    {
     "data": {
      "application/3dmoljs_load.v0": "<div id=\"3dmolviewer_16880972730111575\"  style=\"position: relative; width: 800px; height: 600px;\">\n        <p id=\"3dmolwarning_16880972730111575\" style=\"background-color:#ffcccc;color:black\">You appear to be running in JupyterLab (or JavaScript failed to load for some other reason).  You need to install the 3dmol extension: <br>\n        <tt>jupyter labextension install jupyterlab_3dmol</tt></p>\n        </div>\n<script>\n\nvar loadScriptAsync = function(uri){\n  return new Promise((resolve, reject) => {\n    //this is to ignore the existence of requirejs amd\n    var savedexports, savedmodule;\n    if (typeof exports !== 'undefined') savedexports = exports;\n    else exports = {}\n    if (typeof module !== 'undefined') savedmodule = module;\n    else module = {}\n\n    var tag = document.createElement('script');\n    tag.src = uri;\n    tag.async = true;\n    tag.onload = () => {\n        exports = savedexports;\n        module = savedmodule;\n        resolve();\n    };\n  var firstScriptTag = document.getElementsByTagName('script')[0];\n  firstScriptTag.parentNode.insertBefore(tag, firstScriptTag);\n});\n};\n\nif(typeof $3Dmolpromise === 'undefined') {\n$3Dmolpromise = null;\n  $3Dmolpromise = loadScriptAsync('https://cdnjs.cloudflare.com/ajax/libs/3Dmol/2.0.3/3Dmol-min.js');\n}\n\nvar viewer_16880972730111575 = null;\nvar warn = document.getElementById(\"3dmolwarning_16880972730111575\");\nif(warn) {\n    warn.parentNode.removeChild(warn);\n}\n$3Dmolpromise.then(function() {\nviewer_16880972730111575 = $3Dmol.createViewer(document.getElementById(\"3dmolviewer_16880972730111575\"),{backgroundColor:\"white\"});\nviewer_16880972730111575.zoomTo();\n\tviewer_16880972730111575.addModel(\"HETATM    1  C1  UNL     1       3.167   1.297  -1.293  1.00  0.00           C  \\nHETATM    2  C2  UNL     1       2.114   0.475  -0.611  1.00  0.00           C  \\nHETATM    3  O1  UNL     1       2.329   0.031   0.542  1.00  0.00           O  \\nHETATM    4  O2  UNL     1       0.904   0.180  -1.201  1.00  0.00           O  \\nHETATM    5  C3  UNL     1      -0.018  -0.590  -0.498  1.00  0.00           C  \\nHETATM    6  C4  UNL     1      -0.057  -1.956  -0.556  1.00  0.00           C  \\nHETATM    7  C5  UNL     1      -0.974  -2.721   0.144  1.00  0.00           C  \\nHETATM    8  C6  UNL     1      -1.866  -2.014   0.920  1.00  0.00           C  \\nHETATM    9  C7  UNL     1      -1.878  -0.649   1.019  1.00  0.00           C  \\nHETATM   10  C8  UNL     1      -0.940   0.061   0.299  1.00  0.00           C  \\nHETATM   11  C9  UNL     1      -0.899   1.538   0.362  1.00  0.00           C  \\nHETATM   12  O3  UNL     1      -0.043   2.167  -0.300  1.00  0.00           O  \\nHETATM   13  O4  UNL     1      -1.838   2.179   1.173  1.00  0.00           O  \\nCONECT    1    2\\nCONECT    2    3    3    4\\nCONECT    4    5\\nCONECT    5    6    6   10\\nCONECT    6    7\\nCONECT    7    8    8\\nCONECT    8    9\\nCONECT    9   10   10\\nCONECT   10   11\\nCONECT   11   12   12   13\\nEND\\n\");\n\tviewer_16880972730111575.setStyle({\"stick\": {}});\n\tviewer_16880972730111575.setStyle({\"model\": 0},{\"stick\": {\"colorscheme\": \"cyanCarbon\"}});\n\tviewer_16880972730111575.zoomTo();\nviewer_16880972730111575.render();\n});\n</script>",
      "text/html": "<div id=\"3dmolviewer_16880972730111575\"  style=\"position: relative; width: 800px; height: 600px;\">\n        <p id=\"3dmolwarning_16880972730111575\" style=\"background-color:#ffcccc;color:black\">You appear to be running in JupyterLab (or JavaScript failed to load for some other reason).  You need to install the 3dmol extension: <br>\n        <tt>jupyter labextension install jupyterlab_3dmol</tt></p>\n        </div>\n<script>\n\nvar loadScriptAsync = function(uri){\n  return new Promise((resolve, reject) => {\n    //this is to ignore the existence of requirejs amd\n    var savedexports, savedmodule;\n    if (typeof exports !== 'undefined') savedexports = exports;\n    else exports = {}\n    if (typeof module !== 'undefined') savedmodule = module;\n    else module = {}\n\n    var tag = document.createElement('script');\n    tag.src = uri;\n    tag.async = true;\n    tag.onload = () => {\n        exports = savedexports;\n        module = savedmodule;\n        resolve();\n    };\n  var firstScriptTag = document.getElementsByTagName('script')[0];\n  firstScriptTag.parentNode.insertBefore(tag, firstScriptTag);\n});\n};\n\nif(typeof $3Dmolpromise === 'undefined') {\n$3Dmolpromise = null;\n  $3Dmolpromise = loadScriptAsync('https://cdnjs.cloudflare.com/ajax/libs/3Dmol/2.0.3/3Dmol-min.js');\n}\n\nvar viewer_16880972730111575 = null;\nvar warn = document.getElementById(\"3dmolwarning_16880972730111575\");\nif(warn) {\n    warn.parentNode.removeChild(warn);\n}\n$3Dmolpromise.then(function() {\nviewer_16880972730111575 = $3Dmol.createViewer(document.getElementById(\"3dmolviewer_16880972730111575\"),{backgroundColor:\"white\"});\nviewer_16880972730111575.zoomTo();\n\tviewer_16880972730111575.addModel(\"HETATM    1  C1  UNL     1       3.167   1.297  -1.293  1.00  0.00           C  \\nHETATM    2  C2  UNL     1       2.114   0.475  -0.611  1.00  0.00           C  \\nHETATM    3  O1  UNL     1       2.329   0.031   0.542  1.00  0.00           O  \\nHETATM    4  O2  UNL     1       0.904   0.180  -1.201  1.00  0.00           O  \\nHETATM    5  C3  UNL     1      -0.018  -0.590  -0.498  1.00  0.00           C  \\nHETATM    6  C4  UNL     1      -0.057  -1.956  -0.556  1.00  0.00           C  \\nHETATM    7  C5  UNL     1      -0.974  -2.721   0.144  1.00  0.00           C  \\nHETATM    8  C6  UNL     1      -1.866  -2.014   0.920  1.00  0.00           C  \\nHETATM    9  C7  UNL     1      -1.878  -0.649   1.019  1.00  0.00           C  \\nHETATM   10  C8  UNL     1      -0.940   0.061   0.299  1.00  0.00           C  \\nHETATM   11  C9  UNL     1      -0.899   1.538   0.362  1.00  0.00           C  \\nHETATM   12  O3  UNL     1      -0.043   2.167  -0.300  1.00  0.00           O  \\nHETATM   13  O4  UNL     1      -1.838   2.179   1.173  1.00  0.00           O  \\nCONECT    1    2\\nCONECT    2    3    3    4\\nCONECT    4    5\\nCONECT    5    6    6   10\\nCONECT    6    7\\nCONECT    7    8    8\\nCONECT    8    9\\nCONECT    9   10   10\\nCONECT   10   11\\nCONECT   11   12   12   13\\nEND\\n\");\n\tviewer_16880972730111575.setStyle({\"stick\": {}});\n\tviewer_16880972730111575.setStyle({\"model\": 0},{\"stick\": {\"colorscheme\": \"cyanCarbon\"}});\n\tviewer_16880972730111575.zoomTo();\nviewer_16880972730111575.render();\n});\n</script>"
     },
     "metadata": {},
     "output_type": "display_data"
    },
    {
     "name": "stdout",
     "output_type": "stream",
     "text": [
      "\tHamEng:\n"
     ]
    },
    {
     "data": {
      "application/3dmoljs_load.v0": "<div id=\"3dmolviewer_16880972730162659\"  style=\"position: relative; width: 800px; height: 600px;\">\n        <p id=\"3dmolwarning_16880972730162659\" style=\"background-color:#ffcccc;color:black\">You appear to be running in JupyterLab (or JavaScript failed to load for some other reason).  You need to install the 3dmol extension: <br>\n        <tt>jupyter labextension install jupyterlab_3dmol</tt></p>\n        </div>\n<script>\n\nvar loadScriptAsync = function(uri){\n  return new Promise((resolve, reject) => {\n    //this is to ignore the existence of requirejs amd\n    var savedexports, savedmodule;\n    if (typeof exports !== 'undefined') savedexports = exports;\n    else exports = {}\n    if (typeof module !== 'undefined') savedmodule = module;\n    else module = {}\n\n    var tag = document.createElement('script');\n    tag.src = uri;\n    tag.async = true;\n    tag.onload = () => {\n        exports = savedexports;\n        module = savedmodule;\n        resolve();\n    };\n  var firstScriptTag = document.getElementsByTagName('script')[0];\n  firstScriptTag.parentNode.insertBefore(tag, firstScriptTag);\n});\n};\n\nif(typeof $3Dmolpromise === 'undefined') {\n$3Dmolpromise = null;\n  $3Dmolpromise = loadScriptAsync('https://cdnjs.cloudflare.com/ajax/libs/3Dmol/2.0.3/3Dmol-min.js');\n}\n\nvar viewer_16880972730162659 = null;\nvar warn = document.getElementById(\"3dmolwarning_16880972730162659\");\nif(warn) {\n    warn.parentNode.removeChild(warn);\n}\n$3Dmolpromise.then(function() {\nviewer_16880972730162659 = $3Dmol.createViewer(document.getElementById(\"3dmolviewer_16880972730162659\"),{backgroundColor:\"white\"});\nviewer_16880972730162659.zoomTo();\n\tviewer_16880972730162659.addModel(\"HETATM    1  C1  UNL     1      -1.049   1.471  -1.160  1.00  0.00           C  \\nHETATM    2  C2  UNL     1      -1.390   0.783   0.153  1.00  0.00           C  \\nHETATM    3  O1  UNL     1      -1.736   2.023   0.897  1.00  0.00           O  \\nHETATM    4  O2  UNL     1      -1.332   0.778   1.471  1.00  0.00           O  \\nHETATM    5  C3  UNL     1       0.319   0.012   1.662  1.00  0.00           C  \\nHETATM    6  C4  UNL     1       1.545  -0.002   1.876  1.00  0.00           C  \\nHETATM    7  C5  UNL     1       2.093  -0.465   0.795  1.00  0.00           C  \\nHETATM    8  C6  UNL     1       1.437  -0.989  -0.104  1.00  0.00           C  \\nHETATM    9  C7  UNL     1       0.012  -1.763  -0.500  1.00  0.00           C  \\nHETATM   10  C8  UNL     1      -0.583  -0.707  -0.331  1.00  0.00           C  \\nHETATM   11  C9  UNL     1       0.101  -0.385  -1.204  1.00  0.00           C  \\nHETATM   12  O3  UNL     1       0.773  -0.149  -1.733  1.00  0.00           O  \\nHETATM   13  O4  UNL     1      -0.190  -0.607  -1.823  1.00  0.00           O  \\nCONECT    1    2\\nCONECT    2    3    3    4\\nCONECT    4    5\\nCONECT    5    6    6   10\\nCONECT    6    7\\nCONECT    7    8    8\\nCONECT    8    9\\nCONECT    9   10   10\\nCONECT   10   11\\nCONECT   11   12   12   13\\nEND\\n\");\n\tviewer_16880972730162659.setStyle({\"stick\": {}});\n\tviewer_16880972730162659.setStyle({\"model\": 0},{\"stick\": {\"colorscheme\": \"cyanCarbon\"}});\n\tviewer_16880972730162659.zoomTo();\nviewer_16880972730162659.render();\n});\n</script>",
      "text/html": "<div id=\"3dmolviewer_16880972730162659\"  style=\"position: relative; width: 800px; height: 600px;\">\n        <p id=\"3dmolwarning_16880972730162659\" style=\"background-color:#ffcccc;color:black\">You appear to be running in JupyterLab (or JavaScript failed to load for some other reason).  You need to install the 3dmol extension: <br>\n        <tt>jupyter labextension install jupyterlab_3dmol</tt></p>\n        </div>\n<script>\n\nvar loadScriptAsync = function(uri){\n  return new Promise((resolve, reject) => {\n    //this is to ignore the existence of requirejs amd\n    var savedexports, savedmodule;\n    if (typeof exports !== 'undefined') savedexports = exports;\n    else exports = {}\n    if (typeof module !== 'undefined') savedmodule = module;\n    else module = {}\n\n    var tag = document.createElement('script');\n    tag.src = uri;\n    tag.async = true;\n    tag.onload = () => {\n        exports = savedexports;\n        module = savedmodule;\n        resolve();\n    };\n  var firstScriptTag = document.getElementsByTagName('script')[0];\n  firstScriptTag.parentNode.insertBefore(tag, firstScriptTag);\n});\n};\n\nif(typeof $3Dmolpromise === 'undefined') {\n$3Dmolpromise = null;\n  $3Dmolpromise = loadScriptAsync('https://cdnjs.cloudflare.com/ajax/libs/3Dmol/2.0.3/3Dmol-min.js');\n}\n\nvar viewer_16880972730162659 = null;\nvar warn = document.getElementById(\"3dmolwarning_16880972730162659\");\nif(warn) {\n    warn.parentNode.removeChild(warn);\n}\n$3Dmolpromise.then(function() {\nviewer_16880972730162659 = $3Dmol.createViewer(document.getElementById(\"3dmolviewer_16880972730162659\"),{backgroundColor:\"white\"});\nviewer_16880972730162659.zoomTo();\n\tviewer_16880972730162659.addModel(\"HETATM    1  C1  UNL     1      -1.049   1.471  -1.160  1.00  0.00           C  \\nHETATM    2  C2  UNL     1      -1.390   0.783   0.153  1.00  0.00           C  \\nHETATM    3  O1  UNL     1      -1.736   2.023   0.897  1.00  0.00           O  \\nHETATM    4  O2  UNL     1      -1.332   0.778   1.471  1.00  0.00           O  \\nHETATM    5  C3  UNL     1       0.319   0.012   1.662  1.00  0.00           C  \\nHETATM    6  C4  UNL     1       1.545  -0.002   1.876  1.00  0.00           C  \\nHETATM    7  C5  UNL     1       2.093  -0.465   0.795  1.00  0.00           C  \\nHETATM    8  C6  UNL     1       1.437  -0.989  -0.104  1.00  0.00           C  \\nHETATM    9  C7  UNL     1       0.012  -1.763  -0.500  1.00  0.00           C  \\nHETATM   10  C8  UNL     1      -0.583  -0.707  -0.331  1.00  0.00           C  \\nHETATM   11  C9  UNL     1       0.101  -0.385  -1.204  1.00  0.00           C  \\nHETATM   12  O3  UNL     1       0.773  -0.149  -1.733  1.00  0.00           O  \\nHETATM   13  O4  UNL     1      -0.190  -0.607  -1.823  1.00  0.00           O  \\nCONECT    1    2\\nCONECT    2    3    3    4\\nCONECT    4    5\\nCONECT    5    6    6   10\\nCONECT    6    7\\nCONECT    7    8    8\\nCONECT    8    9\\nCONECT    9   10   10\\nCONECT   10   11\\nCONECT   11   12   12   13\\nEND\\n\");\n\tviewer_16880972730162659.setStyle({\"stick\": {}});\n\tviewer_16880972730162659.setStyle({\"model\": 0},{\"stick\": {\"colorscheme\": \"cyanCarbon\"}});\n\tviewer_16880972730162659.zoomTo();\nviewer_16880972730162659.render();\n});\n</script>"
     },
     "metadata": {},
     "output_type": "display_data"
    },
    {
     "name": "stdout",
     "output_type": "stream",
     "text": [
      "\tPhysChem:\n"
     ]
    },
    {
     "data": {
      "application/3dmoljs_load.v0": "<div id=\"3dmolviewer_16880972730210772\"  style=\"position: relative; width: 800px; height: 600px;\">\n        <p id=\"3dmolwarning_16880972730210772\" style=\"background-color:#ffcccc;color:black\">You appear to be running in JupyterLab (or JavaScript failed to load for some other reason).  You need to install the 3dmol extension: <br>\n        <tt>jupyter labextension install jupyterlab_3dmol</tt></p>\n        </div>\n<script>\n\nvar loadScriptAsync = function(uri){\n  return new Promise((resolve, reject) => {\n    //this is to ignore the existence of requirejs amd\n    var savedexports, savedmodule;\n    if (typeof exports !== 'undefined') savedexports = exports;\n    else exports = {}\n    if (typeof module !== 'undefined') savedmodule = module;\n    else module = {}\n\n    var tag = document.createElement('script');\n    tag.src = uri;\n    tag.async = true;\n    tag.onload = () => {\n        exports = savedexports;\n        module = savedmodule;\n        resolve();\n    };\n  var firstScriptTag = document.getElementsByTagName('script')[0];\n  firstScriptTag.parentNode.insertBefore(tag, firstScriptTag);\n});\n};\n\nif(typeof $3Dmolpromise === 'undefined') {\n$3Dmolpromise = null;\n  $3Dmolpromise = loadScriptAsync('https://cdnjs.cloudflare.com/ajax/libs/3Dmol/2.0.3/3Dmol-min.js');\n}\n\nvar viewer_16880972730210772 = null;\nvar warn = document.getElementById(\"3dmolwarning_16880972730210772\");\nif(warn) {\n    warn.parentNode.removeChild(warn);\n}\n$3Dmolpromise.then(function() {\nviewer_16880972730210772 = $3Dmol.createViewer(document.getElementById(\"3dmolviewer_16880972730210772\"),{backgroundColor:\"white\"});\nviewer_16880972730210772.zoomTo();\n\tviewer_16880972730210772.addModel(\"HETATM    1  C1  UNL     1       2.445  -1.668  -1.731  1.00  0.00           C  \\nHETATM    2  C2  UNL     1       1.768  -0.793  -0.698  1.00  0.00           C  \\nHETATM    3  O1  UNL     1       2.012   0.337  -0.383  1.00  0.00           O  \\nHETATM    4  O2  UNL     1       0.789  -1.368   0.038  1.00  0.00           O  \\nHETATM    5  C3  UNL     1      -0.300  -0.806   0.242  1.00  0.00           C  \\nHETATM    6  C4  UNL     1      -1.519  -1.658  -0.377  1.00  0.00           C  \\nHETATM    7  C5  UNL     1      -2.678  -0.943  -0.097  1.00  0.00           C  \\nHETATM    8  C6  UNL     1      -2.572   0.368   0.244  1.00  0.00           C  \\nHETATM    9  C7  UNL     1      -1.137   0.855   0.379  1.00  0.00           C  \\nHETATM   10  C8  UNL     1      -0.339   0.412   0.306  1.00  0.00           C  \\nHETATM   11  C9  UNL     1       0.139   1.182   0.680  1.00  0.00           C  \\nHETATM   12  O3  UNL     1       0.648   2.219  -0.201  1.00  0.00           O  \\nHETATM   13  O4  UNL     1       0.745   1.863   1.599  1.00  0.00           O  \\nCONECT    1    2\\nCONECT    2    3    3    4\\nCONECT    4    5\\nCONECT    5    6    6   10\\nCONECT    6    7\\nCONECT    7    8    8\\nCONECT    8    9\\nCONECT    9   10   10\\nCONECT   10   11\\nCONECT   11   12   12   13\\nEND\\n\");\n\tviewer_16880972730210772.setStyle({\"stick\": {}});\n\tviewer_16880972730210772.setStyle({\"model\": 0},{\"stick\": {\"colorscheme\": \"cyanCarbon\"}});\n\tviewer_16880972730210772.zoomTo();\nviewer_16880972730210772.render();\n});\n</script>",
      "text/html": "<div id=\"3dmolviewer_16880972730210772\"  style=\"position: relative; width: 800px; height: 600px;\">\n        <p id=\"3dmolwarning_16880972730210772\" style=\"background-color:#ffcccc;color:black\">You appear to be running in JupyterLab (or JavaScript failed to load for some other reason).  You need to install the 3dmol extension: <br>\n        <tt>jupyter labextension install jupyterlab_3dmol</tt></p>\n        </div>\n<script>\n\nvar loadScriptAsync = function(uri){\n  return new Promise((resolve, reject) => {\n    //this is to ignore the existence of requirejs amd\n    var savedexports, savedmodule;\n    if (typeof exports !== 'undefined') savedexports = exports;\n    else exports = {}\n    if (typeof module !== 'undefined') savedmodule = module;\n    else module = {}\n\n    var tag = document.createElement('script');\n    tag.src = uri;\n    tag.async = true;\n    tag.onload = () => {\n        exports = savedexports;\n        module = savedmodule;\n        resolve();\n    };\n  var firstScriptTag = document.getElementsByTagName('script')[0];\n  firstScriptTag.parentNode.insertBefore(tag, firstScriptTag);\n});\n};\n\nif(typeof $3Dmolpromise === 'undefined') {\n$3Dmolpromise = null;\n  $3Dmolpromise = loadScriptAsync('https://cdnjs.cloudflare.com/ajax/libs/3Dmol/2.0.3/3Dmol-min.js');\n}\n\nvar viewer_16880972730210772 = null;\nvar warn = document.getElementById(\"3dmolwarning_16880972730210772\");\nif(warn) {\n    warn.parentNode.removeChild(warn);\n}\n$3Dmolpromise.then(function() {\nviewer_16880972730210772 = $3Dmol.createViewer(document.getElementById(\"3dmolviewer_16880972730210772\"),{backgroundColor:\"white\"});\nviewer_16880972730210772.zoomTo();\n\tviewer_16880972730210772.addModel(\"HETATM    1  C1  UNL     1       2.445  -1.668  -1.731  1.00  0.00           C  \\nHETATM    2  C2  UNL     1       1.768  -0.793  -0.698  1.00  0.00           C  \\nHETATM    3  O1  UNL     1       2.012   0.337  -0.383  1.00  0.00           O  \\nHETATM    4  O2  UNL     1       0.789  -1.368   0.038  1.00  0.00           O  \\nHETATM    5  C3  UNL     1      -0.300  -0.806   0.242  1.00  0.00           C  \\nHETATM    6  C4  UNL     1      -1.519  -1.658  -0.377  1.00  0.00           C  \\nHETATM    7  C5  UNL     1      -2.678  -0.943  -0.097  1.00  0.00           C  \\nHETATM    8  C6  UNL     1      -2.572   0.368   0.244  1.00  0.00           C  \\nHETATM    9  C7  UNL     1      -1.137   0.855   0.379  1.00  0.00           C  \\nHETATM   10  C8  UNL     1      -0.339   0.412   0.306  1.00  0.00           C  \\nHETATM   11  C9  UNL     1       0.139   1.182   0.680  1.00  0.00           C  \\nHETATM   12  O3  UNL     1       0.648   2.219  -0.201  1.00  0.00           O  \\nHETATM   13  O4  UNL     1       0.745   1.863   1.599  1.00  0.00           O  \\nCONECT    1    2\\nCONECT    2    3    3    4\\nCONECT    4    5\\nCONECT    5    6    6   10\\nCONECT    6    7\\nCONECT    7    8    8\\nCONECT    8    9\\nCONECT    9   10   10\\nCONECT   10   11\\nCONECT   11   12   12   13\\nEND\\n\");\n\tviewer_16880972730210772.setStyle({\"stick\": {}});\n\tviewer_16880972730210772.setStyle({\"model\": 0},{\"stick\": {\"colorscheme\": \"cyanCarbon\"}});\n\tviewer_16880972730210772.zoomTo();\nviewer_16880972730210772.render();\n});\n</script>"
     },
     "metadata": {},
     "output_type": "display_data"
    }
   ],
   "source": [
    "import numpy as np\n",
    "import py3Dmol\n",
    "import rdkit.Chem as Chem\n",
    "from rdkit.Chem.rdchem import Mol as Molecule\n",
    "from rdkit.Chem.AllChem import EmbedMolecule\n",
    "from train.utils.kabsch import kabsch_np\n",
    "\n",
    "def show_pdb(pdb: str):\n",
    "    view = py3Dmol.view(width=800, height=600)\n",
    "    view.addModel(pdb)\n",
    "    view.setStyle({'stick': {}})\n",
    "    view.setStyle({'model': 0}, {'stick': {'colorscheme': 'cyanCarbon'}})\n",
    "    view.zoomTo()\n",
    "    view.show()\n",
    "\n",
    "def show_mol_with_pos(mol: Molecule, pos: np.ndarray):\n",
    "    EmbedMolecule(mol)\n",
    "    for i in range(len(mol.GetAtoms())):\n",
    "        mol.GetConformer().SetAtomPosition(i, [float(p) for p in pos[i]])\n",
    "    # mol = AddHs(mol)\n",
    "    Chem.MolToPDBFile(mol, filename=f'visualize/temp.pdb')\n",
    "    with open(f'visualize/temp.pdb') as fp:\n",
    "        pdb = fp.read()\n",
    "    show_pdb(pdb)\n",
    "\n",
    "for i, smiles in enumerate(list_smiles):\n",
    "    # alignment\n",
    "    rdkit_conf = list_rdkit_conformation[i]\n",
    "    hameng_confs = list_hameng_conformations[i]\n",
    "    physchem_confs = list_physchem_conformations[i]\n",
    "    hameng_confs = [kabsch_np(conf, rdkit_conf)[0] for conf in hameng_confs]\n",
    "    physchem_confs = [kabsch_np(conf, rdkit_conf)[0] for conf in physchem_confs]\n",
    "\n",
    "    print(f'##### Generating SMILES {smiles} #####')\n",
    "    print(f\"\\tRDKit:\")\n",
    "    show_mol_with_pos(mols[i], rdkit_conf)\n",
    "    print(f\"\\tHamEng:\")\n",
    "    show_mol_with_pos(mols[i], hameng_confs[-1])\n",
    "    print(f\"\\tPhysChem:\")\n",
    "    show_mol_with_pos(mols[i], physchem_confs[-1])"
   ],
   "metadata": {
    "collapsed": false
   }
  },
  {
   "cell_type": "markdown",
   "source": [
    "### 3.2 化学性质预测\n",
    "\n",
    "在这部分中，我们将展示如何使用PhysChem为分子生成fingerprint，并预测化学性质：（以`FreeSolv`为例）"
   ],
   "metadata": {
    "collapsed": false
   }
  },
  {
   "cell_type": "code",
   "execution_count": 9,
   "outputs": [
    {
     "name": "stdout",
     "output_type": "stream",
     "text": [
      "\tUse Cached Mols\n",
      "\tmean: -3.803006172180176\n",
      "\tstd: 3.8478201122287583\n",
      "Caching Batches...\n",
      "\tProducing New Batches...\n",
      "\t\tProducing Train Batches:\n"
     ]
    },
    {
     "name": "stderr",
     "output_type": "stream",
     "text": [
      "100%|██████████| 513/513 [00:00<00:00, 3789.61it/s]\n"
     ]
    },
    {
     "name": "stdout",
     "output_type": "stream",
     "text": [
      "\t\tProducing Validate Batches:\n"
     ]
    },
    {
     "name": "stderr",
     "output_type": "stream",
     "text": [
      "100%|██████████| 64/64 [00:00<00:00, 3555.06it/s]\n"
     ]
    },
    {
     "name": "stdout",
     "output_type": "stream",
     "text": [
      "\t\tProducing Test Batches:\n"
     ]
    },
    {
     "name": "stderr",
     "output_type": "stream",
     "text": [
      "100%|██████████| 65/65 [00:00<00:00, 4064.79it/s]\n"
     ]
    },
    {
     "name": "stdout",
     "output_type": "stream",
     "text": [
      "Producing Fingerprints...\n",
      "\tTrain Set:\n"
     ]
    },
    {
     "name": "stderr",
     "output_type": "stream",
     "text": [
      "100%|██████████| 511/511 [00:06<00:00, 74.52it/s]\n"
     ]
    },
    {
     "name": "stdout",
     "output_type": "stream",
     "text": [
      "\tValidate Set:\n"
     ]
    },
    {
     "name": "stderr",
     "output_type": "stream",
     "text": [
      "100%|██████████| 63/63 [00:00<00:00, 81.53it/s]\n"
     ]
    },
    {
     "name": "stdout",
     "output_type": "stream",
     "text": [
      "\tTest Set:\n"
     ]
    },
    {
     "name": "stderr",
     "output_type": "stream",
     "text": [
      "100%|██████████| 65/65 [00:00<00:00, 83.91it/s]\n"
     ]
    }
   ],
   "source": [
    "import numpy as np\n",
    "from typing import List, Tuple\n",
    "from tqdm import tqdm\n",
    "from data.FreeSolv.load_freesolv import load_freesolv\n",
    "from train.config import FREESOLV_CONFIG\n",
    "from train.utils.cache_batch import Batch\n",
    "from train.utils.cache_batch import load_encode_mols, load_batch_cache, batch_cuda_copy\n",
    "\n",
    "data_name = \"FreeSolv\"\n",
    "config = FREESOLV_CONFIG\n",
    "mols, mol_properties = load_freesolv()\n",
    "mols_info = load_encode_mols(mols, name=data_name)\n",
    "mean_p = np.mean(mol_properties, axis=0)\n",
    "stddev_p = np.std((mol_properties - mean_p).tolist(), axis=0, ddof=1)\n",
    "print(f'\\tmean: {mean_p[0]}')\n",
    "print(f'\\tstd: {stddev_p[0]}')\n",
    "norm_p = (mol_properties - mean_p) / stddev_p\n",
    "print('Caching Batches...')\n",
    "batch_cache = load_batch_cache(\n",
    "    data_name, mols, mols_info, norm_p, batch_size=config['BATCH'],\n",
    "    contains_ground_truth_conf=False, use_cuda=use_cuda, use_tqdm=True\n",
    ")\n",
    "\n",
    "print(f'Producing Fingerprints...')\n",
    "def proc_batch(batches: List[Batch]) -> Tuple[np.ndarray, np.ndarray]:\n",
    "    list_fp = []\n",
    "    list_prop = []\n",
    "    batches = tqdm(batches, total=len(batches))\n",
    "    for batch in batches:\n",
    "        if use_cuda:\n",
    "            batch = batch_cuda_copy(batch)\n",
    "        fp, *_ = model.forward(batch.atom_ftr, batch.bond_ftr, batch.massive, batch.mask_matrices)\n",
    "        list_fp.append(fp.cpu().detach().numpy())\n",
    "        list_prop.append(batch.properties.cpu().detach().numpy())\n",
    "    return np.vstack(list_fp), np.vstack(list_prop)\n",
    "\n",
    "print(f'\\tTrain Set:')\n",
    "train_fp, train_prop = proc_batch(batch_cache.train_batches)\n",
    "print(f'\\tValidate Set:')\n",
    "valid_fp, valid_prop = proc_batch(batch_cache.validate_batches)\n",
    "print(f'\\tTest Set:')\n",
    "test_fp, test_prop = proc_batch(batch_cache.test_batches)"
   ],
   "metadata": {
    "collapsed": false
   }
  },
  {
   "cell_type": "code",
   "execution_count": 10,
   "outputs": [
    {
     "name": "stdout",
     "output_type": "stream",
     "text": [
      "STANDARD DEVIATION: 3.8478201122287583\n",
      "TRAIN RMSE: 1.9456344247123332\n",
      "VALIDATE RMSE: 1.6928925524685277\n",
      "TEST RMSE: 2.8749383209099406\n"
     ]
    }
   ],
   "source": [
    "from sklearn.linear_model import SGDRegressor\n",
    "from sklearn.metrics import mean_squared_error\n",
    "\n",
    "reg = SGDRegressor()\n",
    "reg.fit(train_fp, train_prop[:, 0])\n",
    "train_pred = reg.predict(train_fp)\n",
    "valid_pred = reg.predict(valid_fp)\n",
    "test_pred = reg.predict(test_fp)\n",
    "print(f\"STANDARD DEVIATION: {stddev_p[0]}\")\n",
    "print(f\"TRAIN RMSE: {mean_squared_error(train_prop, train_pred) ** 0.5 * stddev_p[0]}\")\n",
    "print(f\"VALIDATE RMSE: {mean_squared_error(valid_prop, valid_pred) ** 0.5 * stddev_p[0]}\")\n",
    "print(f\"TEST RMSE: {mean_squared_error(test_prop, test_pred) ** 0.5 * stddev_p[0]}\")"
   ],
   "metadata": {
    "collapsed": false
   }
  },
  {
   "cell_type": "markdown",
   "source": [],
   "metadata": {
    "collapsed": false
   }
  },
  {
   "cell_type": "markdown",
   "source": [
    "## 4. 训练自己的模型\n",
    "\n",
    "我们提供了针对多种输出类型的训练函数：\n",
    "- `train/single_regression.py`：单回归问题，如Lipop，ESOL，FreeSolv\n",
    "- `train/train_multi_classification.py`：多分类问题，如Sars-Cov-2\n",
    "- `train/train_qm9.py`：多回归+构型预测问题，如QM7/8/9\n",
    "\n",
    "例如，在QM7上训练模型的方法如下："
   ],
   "metadata": {
    "collapsed": false
   }
  },
  {
   "cell_type": "code",
   "execution_count": 11,
   "outputs": [
    {
     "name": "stdout",
     "output_type": "stream",
     "text": [
      "For QM7@16880611:\n",
      "\t CONFIG:\n",
      "\t\tCLASSIFIER_HIDDENS: []\n",
      "\t\tINIT_GCN_H_DIMS: [128]\n",
      "\t\tINIT_GCN_O_DIM: 128\n",
      "\t\tINIT_LSTM_LAYERS: 2\n",
      "\t\tINIT_LSTM_O_DIM: 128\n",
      "\t\tHV_DIM: 200\n",
      "\t\tHE_DIM: 100\n",
      "\t\tHM_DIM: 300\n",
      "\t\tMV_DIM: 200\n",
      "\t\tME_DIM: 100\n",
      "\t\tMM_DIM: 300\n",
      "\t\tPQ_DIM: 3\n",
      "\t\tN_LAYER: 2\n",
      "\t\tN_HOP: 1\n",
      "\t\tN_ITERATION: 4\n",
      "\t\tN_GLOBAL: 2\n",
      "\t\tMESSAGE_TYPE: triplet\n",
      "\t\tUNION_TYPE: gru\n",
      "\t\tGLOBAL_TYPE: inductive\n",
      "\t\tDERIVATION_TYPE: newton\n",
      "\t\tTAU: 0.25\n",
      "\t\tDISSA: 1.0\n",
      "\t\tDROPOUT: 0.5\n",
      "\t\tEPOCH: 100\n",
      "\t\tBATCH: 10\n",
      "\t\tPACK: 10\n",
      "\t\tCONF_LOSS: H_ADJ3\n",
      "\t\tLAMBDA: 0.1\n",
      "\t\tLR: 0.0001\n",
      "\t\tGAMMA: 0.95\n",
      "\t\tDECAY: 0.001\n",
      "\t\tCONF_TYPE: ConfType.NEWTON\n",
      "Loading:\n",
      "\tStart encoding...\n",
      "\tEncoded: 6970\n"
     ]
    },
    {
     "ename": "AssertionError",
     "evalue": "Torch not compiled with CUDA enabled",
     "output_type": "error",
     "traceback": [
      "\u001B[1;31m---------------------------------------------------------------------------\u001B[0m",
      "\u001B[1;31mAssertionError\u001B[0m                            Traceback (most recent call last)",
      "Cell \u001B[1;32mIn[11], line 9\u001B[0m\n\u001B[0;32m      6\u001B[0m seed \u001B[38;5;241m=\u001B[39m \u001B[38;5;241m16880611\u001B[39m\n\u001B[0;32m      7\u001B[0m use_cuda \u001B[38;5;241m=\u001B[39m \u001B[38;5;28;01mTrue\u001B[39;00m\n\u001B[1;32m----> 9\u001B[0m \u001B[43mtrain_qm9\u001B[49m\u001B[43m(\u001B[49m\n\u001B[0;32m     10\u001B[0m \u001B[43m    \u001B[49m\u001B[43mspecial_config\u001B[49m\u001B[38;5;241;43m=\u001B[39;49m\u001B[43m{\u001B[49m\n\u001B[0;32m     11\u001B[0m \u001B[43m        \u001B[49m\u001B[38;5;124;43m'\u001B[39;49m\u001B[38;5;124;43mCLASSIFIER_HIDDENS\u001B[39;49m\u001B[38;5;124;43m'\u001B[39;49m\u001B[43m:\u001B[49m\u001B[43m \u001B[49m\u001B[43m[\u001B[49m\u001B[43m]\u001B[49m\u001B[43m,\u001B[49m\n\u001B[0;32m     12\u001B[0m \n\u001B[0;32m     13\u001B[0m \u001B[43m        \u001B[49m\u001B[38;5;124;43m'\u001B[39;49m\u001B[38;5;124;43mINIT_GCN_H_DIMS\u001B[39;49m\u001B[38;5;124;43m'\u001B[39;49m\u001B[43m:\u001B[49m\u001B[43m \u001B[49m\u001B[43m[\u001B[49m\u001B[38;5;241;43m128\u001B[39;49m\u001B[43m]\u001B[49m\u001B[43m,\u001B[49m\n\u001B[0;32m     14\u001B[0m \u001B[43m        \u001B[49m\u001B[38;5;124;43m'\u001B[39;49m\u001B[38;5;124;43mINIT_GCN_O_DIM\u001B[39;49m\u001B[38;5;124;43m'\u001B[39;49m\u001B[43m:\u001B[49m\u001B[43m \u001B[49m\u001B[38;5;241;43m128\u001B[39;49m\u001B[43m,\u001B[49m\n\u001B[0;32m     15\u001B[0m \u001B[43m        \u001B[49m\u001B[38;5;124;43m'\u001B[39;49m\u001B[38;5;124;43mINIT_LSTM_LAYERS\u001B[39;49m\u001B[38;5;124;43m'\u001B[39;49m\u001B[43m:\u001B[49m\u001B[43m \u001B[49m\u001B[38;5;241;43m2\u001B[39;49m\u001B[43m,\u001B[49m\n\u001B[0;32m     16\u001B[0m \u001B[43m        \u001B[49m\u001B[38;5;124;43m'\u001B[39;49m\u001B[38;5;124;43mINIT_LSTM_O_DIM\u001B[39;49m\u001B[38;5;124;43m'\u001B[39;49m\u001B[43m:\u001B[49m\u001B[43m \u001B[49m\u001B[38;5;241;43m128\u001B[39;49m\u001B[43m,\u001B[49m\n\u001B[0;32m     17\u001B[0m \n\u001B[0;32m     18\u001B[0m \u001B[43m        \u001B[49m\u001B[38;5;124;43m'\u001B[39;49m\u001B[38;5;124;43mHV_DIM\u001B[39;49m\u001B[38;5;124;43m'\u001B[39;49m\u001B[43m:\u001B[49m\u001B[43m \u001B[49m\u001B[38;5;241;43m200\u001B[39;49m\u001B[43m,\u001B[49m\n\u001B[0;32m     19\u001B[0m \u001B[43m        \u001B[49m\u001B[38;5;124;43m'\u001B[39;49m\u001B[38;5;124;43mHE_DIM\u001B[39;49m\u001B[38;5;124;43m'\u001B[39;49m\u001B[43m:\u001B[49m\u001B[43m \u001B[49m\u001B[38;5;241;43m100\u001B[39;49m\u001B[43m,\u001B[49m\n\u001B[0;32m     20\u001B[0m \u001B[43m        \u001B[49m\u001B[38;5;124;43m'\u001B[39;49m\u001B[38;5;124;43mHM_DIM\u001B[39;49m\u001B[38;5;124;43m'\u001B[39;49m\u001B[43m:\u001B[49m\u001B[43m \u001B[49m\u001B[38;5;241;43m300\u001B[39;49m\u001B[43m,\u001B[49m\n\u001B[0;32m     21\u001B[0m \u001B[43m        \u001B[49m\u001B[38;5;124;43m'\u001B[39;49m\u001B[38;5;124;43mMV_DIM\u001B[39;49m\u001B[38;5;124;43m'\u001B[39;49m\u001B[43m:\u001B[49m\u001B[43m \u001B[49m\u001B[38;5;241;43m200\u001B[39;49m\u001B[43m,\u001B[49m\n\u001B[0;32m     22\u001B[0m \u001B[43m        \u001B[49m\u001B[38;5;124;43m'\u001B[39;49m\u001B[38;5;124;43mME_DIM\u001B[39;49m\u001B[38;5;124;43m'\u001B[39;49m\u001B[43m:\u001B[49m\u001B[43m \u001B[49m\u001B[38;5;241;43m100\u001B[39;49m\u001B[43m,\u001B[49m\n\u001B[0;32m     23\u001B[0m \u001B[43m        \u001B[49m\u001B[38;5;124;43m'\u001B[39;49m\u001B[38;5;124;43mMM_DIM\u001B[39;49m\u001B[38;5;124;43m'\u001B[39;49m\u001B[43m:\u001B[49m\u001B[43m \u001B[49m\u001B[38;5;241;43m300\u001B[39;49m\u001B[43m,\u001B[49m\n\u001B[0;32m     24\u001B[0m \u001B[43m        \u001B[49m\u001B[38;5;124;43m'\u001B[39;49m\u001B[38;5;124;43mPQ_DIM\u001B[39;49m\u001B[38;5;124;43m'\u001B[39;49m\u001B[43m:\u001B[49m\u001B[43m \u001B[49m\u001B[38;5;241;43m3\u001B[39;49m\u001B[43m,\u001B[49m\n\u001B[0;32m     25\u001B[0m \u001B[43m        \u001B[49m\u001B[38;5;124;43m'\u001B[39;49m\u001B[38;5;124;43mN_LAYER\u001B[39;49m\u001B[38;5;124;43m'\u001B[39;49m\u001B[43m:\u001B[49m\u001B[43m \u001B[49m\u001B[38;5;241;43m2\u001B[39;49m\u001B[43m,\u001B[49m\n\u001B[0;32m     26\u001B[0m \u001B[43m        \u001B[49m\u001B[38;5;124;43m'\u001B[39;49m\u001B[38;5;124;43mN_HOP\u001B[39;49m\u001B[38;5;124;43m'\u001B[39;49m\u001B[43m:\u001B[49m\u001B[43m \u001B[49m\u001B[38;5;241;43m1\u001B[39;49m\u001B[43m,\u001B[49m\n\u001B[0;32m     27\u001B[0m \u001B[43m        \u001B[49m\u001B[38;5;124;43m'\u001B[39;49m\u001B[38;5;124;43mN_ITERATION\u001B[39;49m\u001B[38;5;124;43m'\u001B[39;49m\u001B[43m:\u001B[49m\u001B[43m \u001B[49m\u001B[38;5;241;43m4\u001B[39;49m\u001B[43m,\u001B[49m\n\u001B[0;32m     28\u001B[0m \u001B[43m        \u001B[49m\u001B[38;5;124;43m'\u001B[39;49m\u001B[38;5;124;43mN_GLOBAL\u001B[39;49m\u001B[38;5;124;43m'\u001B[39;49m\u001B[43m:\u001B[49m\u001B[43m \u001B[49m\u001B[38;5;241;43m2\u001B[39;49m\u001B[43m,\u001B[49m\n\u001B[0;32m     29\u001B[0m \u001B[43m        \u001B[49m\u001B[38;5;124;43m'\u001B[39;49m\u001B[38;5;124;43mMESSAGE_TYPE\u001B[39;49m\u001B[38;5;124;43m'\u001B[39;49m\u001B[43m:\u001B[49m\u001B[43m \u001B[49m\u001B[38;5;124;43m'\u001B[39;49m\u001B[38;5;124;43mtriplet\u001B[39;49m\u001B[38;5;124;43m'\u001B[39;49m\u001B[43m,\u001B[49m\n\u001B[0;32m     30\u001B[0m \u001B[43m        \u001B[49m\u001B[38;5;124;43m'\u001B[39;49m\u001B[38;5;124;43mUNION_TYPE\u001B[39;49m\u001B[38;5;124;43m'\u001B[39;49m\u001B[43m:\u001B[49m\u001B[43m \u001B[49m\u001B[38;5;124;43m'\u001B[39;49m\u001B[38;5;124;43mgru\u001B[39;49m\u001B[38;5;124;43m'\u001B[39;49m\u001B[43m,\u001B[49m\n\u001B[0;32m     31\u001B[0m \u001B[43m        \u001B[49m\u001B[38;5;124;43m'\u001B[39;49m\u001B[38;5;124;43mGLOBAL_TYPE\u001B[39;49m\u001B[38;5;124;43m'\u001B[39;49m\u001B[43m:\u001B[49m\u001B[43m \u001B[49m\u001B[38;5;124;43m'\u001B[39;49m\u001B[38;5;124;43minductive\u001B[39;49m\u001B[38;5;124;43m'\u001B[39;49m\u001B[43m,\u001B[49m\n\u001B[0;32m     32\u001B[0m \u001B[43m        \u001B[49m\u001B[38;5;124;43m'\u001B[39;49m\u001B[38;5;124;43mDERIVATION_TYPE\u001B[39;49m\u001B[38;5;124;43m'\u001B[39;49m\u001B[43m:\u001B[49m\u001B[43m \u001B[49m\u001B[38;5;124;43m'\u001B[39;49m\u001B[38;5;124;43mnewton\u001B[39;49m\u001B[38;5;124;43m'\u001B[39;49m\u001B[43m,\u001B[49m\n\u001B[0;32m     33\u001B[0m \u001B[43m        \u001B[49m\u001B[38;5;124;43m'\u001B[39;49m\u001B[38;5;124;43mTAU\u001B[39;49m\u001B[38;5;124;43m'\u001B[39;49m\u001B[43m:\u001B[49m\u001B[43m \u001B[49m\u001B[38;5;241;43m0.25\u001B[39;49m\u001B[43m,\u001B[49m\n\u001B[0;32m     34\u001B[0m \u001B[43m        \u001B[49m\u001B[38;5;124;43m'\u001B[39;49m\u001B[38;5;124;43mDISSA\u001B[39;49m\u001B[38;5;124;43m'\u001B[39;49m\u001B[43m:\u001B[49m\u001B[43m \u001B[49m\u001B[38;5;241;43m1.0\u001B[39;49m\u001B[43m,\u001B[49m\n\u001B[0;32m     35\u001B[0m \u001B[43m        \u001B[49m\u001B[38;5;124;43m'\u001B[39;49m\u001B[38;5;124;43mDROPOUT\u001B[39;49m\u001B[38;5;124;43m'\u001B[39;49m\u001B[43m:\u001B[49m\u001B[43m \u001B[49m\u001B[38;5;241;43m0.5\u001B[39;49m\u001B[43m,\u001B[49m\n\u001B[0;32m     36\u001B[0m \n\u001B[0;32m     37\u001B[0m \u001B[43m        \u001B[49m\u001B[38;5;124;43m'\u001B[39;49m\u001B[38;5;124;43mEPOCH\u001B[39;49m\u001B[38;5;124;43m'\u001B[39;49m\u001B[43m:\u001B[49m\u001B[43m \u001B[49m\u001B[38;5;241;43m100\u001B[39;49m\u001B[43m,\u001B[49m\n\u001B[0;32m     38\u001B[0m \u001B[43m        \u001B[49m\u001B[38;5;124;43m'\u001B[39;49m\u001B[38;5;124;43mBATCH\u001B[39;49m\u001B[38;5;124;43m'\u001B[39;49m\u001B[43m:\u001B[49m\u001B[43m \u001B[49m\u001B[38;5;241;43m10\u001B[39;49m\u001B[43m,\u001B[49m\n\u001B[0;32m     39\u001B[0m \u001B[43m        \u001B[49m\u001B[38;5;124;43m'\u001B[39;49m\u001B[38;5;124;43mPACK\u001B[39;49m\u001B[38;5;124;43m'\u001B[39;49m\u001B[43m:\u001B[49m\u001B[43m \u001B[49m\u001B[38;5;241;43m10\u001B[39;49m\u001B[43m,\u001B[49m\n\u001B[0;32m     40\u001B[0m \u001B[43m        \u001B[49m\u001B[38;5;124;43m'\u001B[39;49m\u001B[38;5;124;43mCONF_LOSS\u001B[39;49m\u001B[38;5;124;43m'\u001B[39;49m\u001B[43m:\u001B[49m\u001B[43m \u001B[49m\u001B[38;5;124;43m'\u001B[39;49m\u001B[38;5;124;43mH_ADJ3\u001B[39;49m\u001B[38;5;124;43m'\u001B[39;49m\u001B[43m,\u001B[49m\n\u001B[0;32m     41\u001B[0m \u001B[43m        \u001B[49m\u001B[38;5;124;43m'\u001B[39;49m\u001B[38;5;124;43mLAMBDA\u001B[39;49m\u001B[38;5;124;43m'\u001B[39;49m\u001B[43m:\u001B[49m\u001B[43m \u001B[49m\u001B[38;5;241;43m0.1\u001B[39;49m\u001B[43m,\u001B[49m\n\u001B[0;32m     42\u001B[0m \u001B[43m        \u001B[49m\u001B[38;5;124;43m'\u001B[39;49m\u001B[38;5;124;43mLR\u001B[39;49m\u001B[38;5;124;43m'\u001B[39;49m\u001B[43m:\u001B[49m\u001B[43m \u001B[49m\u001B[38;5;241;43m1e-4\u001B[39;49m\u001B[43m,\u001B[49m\n\u001B[0;32m     43\u001B[0m \u001B[43m        \u001B[49m\u001B[38;5;124;43m'\u001B[39;49m\u001B[38;5;124;43mGAMMA\u001B[39;49m\u001B[38;5;124;43m'\u001B[39;49m\u001B[43m:\u001B[49m\u001B[43m \u001B[49m\u001B[38;5;241;43m0.95\u001B[39;49m\u001B[43m,\u001B[49m\n\u001B[0;32m     44\u001B[0m \u001B[43m        \u001B[49m\u001B[38;5;124;43m'\u001B[39;49m\u001B[38;5;124;43mDECAY\u001B[39;49m\u001B[38;5;124;43m'\u001B[39;49m\u001B[43m:\u001B[49m\u001B[43m \u001B[49m\u001B[38;5;241;43m1e-3\u001B[39;49m\u001B[43m,\u001B[49m\n\u001B[0;32m     45\u001B[0m \n\u001B[0;32m     46\u001B[0m \u001B[43m        \u001B[49m\u001B[38;5;124;43m'\u001B[39;49m\u001B[38;5;124;43mCONF_TYPE\u001B[39;49m\u001B[38;5;124;43m'\u001B[39;49m\u001B[43m:\u001B[49m\u001B[43m \u001B[49m\u001B[43mconf_type\u001B[49m\u001B[43m,\u001B[49m\n\u001B[0;32m     47\u001B[0m \u001B[43m    \u001B[49m\u001B[43m}\u001B[49m\u001B[43m,\u001B[49m\n\u001B[0;32m     48\u001B[0m \u001B[43m    \u001B[49m\u001B[43mdataset\u001B[49m\u001B[38;5;241;43m=\u001B[39;49m\u001B[43mQMDataset\u001B[49m\u001B[38;5;241;43m.\u001B[39;49m\u001B[43mQM7\u001B[49m\u001B[43m,\u001B[49m\n\u001B[0;32m     49\u001B[0m \u001B[43m    \u001B[49m\u001B[43muse_cuda\u001B[49m\u001B[38;5;241;43m=\u001B[39;49m\u001B[43muse_cuda\u001B[49m\u001B[43m,\u001B[49m\n\u001B[0;32m     50\u001B[0m \u001B[43m    \u001B[49m\u001B[43mmax_num\u001B[49m\u001B[38;5;241;43m=\u001B[39;49m\u001B[38;5;241;43m-\u001B[39;49m\u001B[38;5;241;43m1\u001B[39;49m\u001B[43m,\u001B[49m\n\u001B[0;32m     51\u001B[0m \u001B[43m    \u001B[49m\u001B[43mdata_name\u001B[49m\u001B[38;5;241;43m=\u001B[39;49m\u001B[38;5;124;43mf\u001B[39;49m\u001B[38;5;124;43m'\u001B[39;49m\u001B[38;5;132;43;01m{\u001B[39;49;00m\u001B[43mname\u001B[49m\u001B[38;5;132;43;01m}\u001B[39;49;00m\u001B[38;5;124;43m@\u001B[39;49m\u001B[38;5;132;43;01m{\u001B[39;49;00m\u001B[43mseed\u001B[49m\u001B[38;5;132;43;01m}\u001B[39;49;00m\u001B[38;5;124;43m'\u001B[39;49m\u001B[43m,\u001B[49m\n\u001B[0;32m     52\u001B[0m \u001B[43m    \u001B[49m\u001B[43mseed\u001B[49m\u001B[38;5;241;43m=\u001B[39;49m\u001B[43mseed\u001B[49m\u001B[43m,\u001B[49m\n\u001B[0;32m     53\u001B[0m \u001B[43m    \u001B[49m\u001B[43mforce_save\u001B[49m\u001B[38;5;241;43m=\u001B[39;49m\u001B[38;5;28;43;01mTrue\u001B[39;49;00m\u001B[43m,\u001B[49m\n\u001B[0;32m     54\u001B[0m \u001B[43m    \u001B[49m\u001B[43mtag\u001B[49m\u001B[38;5;241;43m=\u001B[39;49m\u001B[38;5;124;43mf\u001B[39;49m\u001B[38;5;124;43m'\u001B[39;49m\u001B[38;5;132;43;01m{\u001B[39;49;00m\u001B[43mname\u001B[49m\u001B[38;5;132;43;01m}\u001B[39;49;00m\u001B[38;5;124;43m@\u001B[39;49m\u001B[38;5;132;43;01m{\u001B[39;49;00m\u001B[43mseed\u001B[49m\u001B[38;5;132;43;01m}\u001B[39;49;00m\u001B[38;5;124;43m'\u001B[39;49m\u001B[43m,\u001B[49m\n\u001B[0;32m     55\u001B[0m \u001B[43m    \u001B[49m\u001B[43muse_tqdm\u001B[49m\u001B[38;5;241;43m=\u001B[39;49m\u001B[38;5;28;43;01mFalse\u001B[39;49;00m\u001B[43m,\u001B[49m\n\u001B[0;32m     56\u001B[0m \u001B[43m)\u001B[49m\n",
      "File \u001B[1;32mC:\\GitHub\\PhysChem\\train\\train_qm9.py:73\u001B[0m, in \u001B[0;36mtrain_qm9\u001B[1;34m(special_config, dataset, use_cuda, max_num, data_name, seed, force_save, tag, use_tqdm)\u001B[0m\n\u001B[0;32m     71\u001B[0m weights \u001B[38;5;241m=\u001B[39m torch\u001B[38;5;241m.\u001B[39mtensor(stddev_p, dtype\u001B[38;5;241m=\u001B[39mtorch\u001B[38;5;241m.\u001B[39mfloat32) \u001B[38;5;241m*\u001B[39m \u001B[38;5;241m22\u001B[39m\n\u001B[0;32m     72\u001B[0m \u001B[38;5;28;01mif\u001B[39;00m use_cuda:\n\u001B[1;32m---> 73\u001B[0m     weights \u001B[38;5;241m=\u001B[39m \u001B[43mweights\u001B[49m\u001B[38;5;241;43m.\u001B[39;49m\u001B[43mcuda\u001B[49m\u001B[43m(\u001B[49m\u001B[43m)\u001B[49m\n\u001B[0;32m     74\u001B[0m \u001B[38;5;66;03m# mad_p = np.array([1.189, 6.299, 0.016, 0.039, 0.040, 202.017,\u001B[39;00m\n\u001B[0;32m     75\u001B[0m \u001B[38;5;66;03m#                   0.026, 31.072, 31.072, 31.072, 31.072, 3.204], dtype=np.float)\u001B[39;00m\n\u001B[0;32m     76\u001B[0m norm_p \u001B[38;5;241m=\u001B[39m (mol_properties \u001B[38;5;241m-\u001B[39m mean_p) \u001B[38;5;241m/\u001B[39m stddev_p\n",
      "File \u001B[1;32m~\\anaconda3\\envs\\torch\\lib\\site-packages\\torch\\cuda\\__init__.py:239\u001B[0m, in \u001B[0;36m_lazy_init\u001B[1;34m()\u001B[0m\n\u001B[0;32m    235\u001B[0m     \u001B[38;5;28;01mraise\u001B[39;00m \u001B[38;5;167;01mRuntimeError\u001B[39;00m(\n\u001B[0;32m    236\u001B[0m         \u001B[38;5;124m\"\u001B[39m\u001B[38;5;124mCannot re-initialize CUDA in forked subprocess. To use CUDA with \u001B[39m\u001B[38;5;124m\"\u001B[39m\n\u001B[0;32m    237\u001B[0m         \u001B[38;5;124m\"\u001B[39m\u001B[38;5;124mmultiprocessing, you must use the \u001B[39m\u001B[38;5;124m'\u001B[39m\u001B[38;5;124mspawn\u001B[39m\u001B[38;5;124m'\u001B[39m\u001B[38;5;124m start method\u001B[39m\u001B[38;5;124m\"\u001B[39m)\n\u001B[0;32m    238\u001B[0m \u001B[38;5;28;01mif\u001B[39;00m \u001B[38;5;129;01mnot\u001B[39;00m \u001B[38;5;28mhasattr\u001B[39m(torch\u001B[38;5;241m.\u001B[39m_C, \u001B[38;5;124m'\u001B[39m\u001B[38;5;124m_cuda_getDeviceCount\u001B[39m\u001B[38;5;124m'\u001B[39m):\n\u001B[1;32m--> 239\u001B[0m     \u001B[38;5;28;01mraise\u001B[39;00m \u001B[38;5;167;01mAssertionError\u001B[39;00m(\u001B[38;5;124m\"\u001B[39m\u001B[38;5;124mTorch not compiled with CUDA enabled\u001B[39m\u001B[38;5;124m\"\u001B[39m)\n\u001B[0;32m    240\u001B[0m \u001B[38;5;28;01mif\u001B[39;00m _cudart \u001B[38;5;129;01mis\u001B[39;00m \u001B[38;5;28;01mNone\u001B[39;00m:\n\u001B[0;32m    241\u001B[0m     \u001B[38;5;28;01mraise\u001B[39;00m \u001B[38;5;167;01mAssertionError\u001B[39;00m(\n\u001B[0;32m    242\u001B[0m         \u001B[38;5;124m\"\u001B[39m\u001B[38;5;124mlibcudart functions unavailable. It looks like you have a broken build?\u001B[39m\u001B[38;5;124m\"\u001B[39m)\n",
      "\u001B[1;31mAssertionError\u001B[0m: Torch not compiled with CUDA enabled"
     ]
    }
   ],
   "source": [
    "from net.config import ConfType\n",
    "from train.train_qm9 import train_qm9, QMDataset\n",
    "\n",
    "conf_type = ConfType.NEWTON\n",
    "name = 'QM7'\n",
    "seed = 16880611\n",
    "use_cuda = True\n",
    "\n",
    "train_qm9(\n",
    "    special_config={\n",
    "        'CLASSIFIER_HIDDENS': [],\n",
    "\n",
    "        'INIT_GCN_H_DIMS': [128],\n",
    "        'INIT_GCN_O_DIM': 128,\n",
    "        'INIT_LSTM_LAYERS': 2,\n",
    "        'INIT_LSTM_O_DIM': 128,\n",
    "\n",
    "        'HV_DIM': 200,\n",
    "        'HE_DIM': 100,\n",
    "        'HM_DIM': 300,\n",
    "        'MV_DIM': 200,\n",
    "        'ME_DIM': 100,\n",
    "        'MM_DIM': 300,\n",
    "        'PQ_DIM': 3,\n",
    "        'N_LAYER': 2,\n",
    "        'N_HOP': 1,\n",
    "        'N_ITERATION': 4,\n",
    "        'N_GLOBAL': 2,\n",
    "        'MESSAGE_TYPE': 'triplet',\n",
    "        'UNION_TYPE': 'gru',\n",
    "        'GLOBAL_TYPE': 'inductive',\n",
    "        'DERIVATION_TYPE': 'newton',\n",
    "        'TAU': 0.25,\n",
    "        'DISSA': 1.0,\n",
    "        'DROPOUT': 0.5,\n",
    "\n",
    "        'EPOCH': 100,\n",
    "        'BATCH': 10,\n",
    "        'PACK': 10,\n",
    "        'CONF_LOSS': 'H_ADJ3',\n",
    "        'LAMBDA': 0.1,\n",
    "        'LR': 1e-4,\n",
    "        'GAMMA': 0.95,\n",
    "        'DECAY': 1e-3,\n",
    "\n",
    "        'CONF_TYPE': conf_type,\n",
    "    },\n",
    "    dataset=QMDataset.QM7,\n",
    "    use_cuda=use_cuda,\n",
    "    max_num=-1,\n",
    "    data_name=f'{name}@{seed}',\n",
    "    seed=seed,\n",
    "    force_save=True,\n",
    "    tag=f'{name}@{seed}',\n",
    "    use_tqdm=False,\n",
    ")"
   ],
   "metadata": {
    "collapsed": false
   }
  }
 ],
 "metadata": {
  "kernelspec": {
   "display_name": "Python 3 (ipykernel)",
   "language": "python",
   "name": "python3"
  },
  "language_info": {
   "codemirror_mode": {
    "name": "ipython",
    "version": 3
   },
   "file_extension": ".py",
   "mimetype": "text/x-python",
   "name": "python",
   "nbconvert_exporter": "python",
   "pygments_lexer": "ipython3",
   "version": "3.10.11"
  }
 },
 "nbformat": 4,
 "nbformat_minor": 1
}
